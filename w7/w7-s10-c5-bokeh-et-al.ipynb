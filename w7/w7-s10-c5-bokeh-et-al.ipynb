{
 "cells": [
  {
   "cell_type": "markdown",
   "metadata": {},
   "source": [
    "<div class=\"licence\">\n",
    "<span>Licence CC BY-NC-ND</span>\n",
    "<span>Thierry Parmentelat &amp; Arnaud Legout</span>\n",
    "<span><img src=\"media/both-logos-small-alpha.png\" /></span>\n",
    "</div>"
   ]
  },
  {
   "cell_type": "markdown",
   "metadata": {},
   "source": [
    "# Autres bibliothèques de visualisation"
   ]
  },
  {
   "cell_type": "markdown",
   "metadata": {},
   "source": [
    "## Complément - niveau basique"
   ]
  },
  {
   "cell_type": "markdown",
   "metadata": {},
   "source": [
    "Pour conclure cette séquence sur les outils de visualisation, nous allons très rapidement évoquer des alternatives à la bibliothèque `matplotlib`, sachant que le domaine est en pleine expansion."
   ]
  },
  {
   "cell_type": "markdown",
   "metadata": {},
   "source": [
    "### Le poids du passé"
   ]
  },
  {
   "cell_type": "markdown",
   "metadata": {},
   "source": [
    "On a vu que `matplotlib` est un outil relativement complet. Toutefois, on peut lui reprocher deux défauts majeurs.\n",
    "\n",
    "* D'une part, `matplotlib` a choisi d'offrir une interface aussi proche que possible de ce qui existait préalablement en MatLab. C'est un choix tout à fait judicieux dans l'optique d'attirer la communauté MatLab à des outils open source basés sur Python et numpy. Mais en contrepartie, cela implique d'adopter tels quels des choix de conception.\n",
    "\n",
    "* Et notamment, en suivant cette approche on hérite d'un modèle mental qui est plus orienté vers la sortie vers du papier que vers la création de documents interactifs."
   ]
  },
  {
   "cell_type": "markdown",
   "metadata": {},
   "source": [
    "Ceci, ajouté à l'explosion du domaine de l'analyse et de la visualisation de données, explique la largeur de l'offre en matière de bibliothèques de visualisation alternatives.\n",
    "\n",
    "Dans ce complément nous allons explorer notamment quelques techniques qui permettent de faire des visualisations interactives; c'est-à-dire où l'on peut modifier la visualisation en fonction de paramètres, réglables facilement. \n",
    "\n",
    "C'est quelque chose qui demande **un peu de soin** car, si on utilise `interact()` brutalement, on obtient **des visualisations qui \"*flashent*\"**, car à chaque changement du contexte on recalcule toute une image, plutôt que de modifier l'image précédente. Ça semble un détail, mais l'oeil est très sensible à ce type d'artefact, et à l'expérience ce détail a plus d'impact qu'on ne pense."
   ]
  },
  {
   "cell_type": "markdown",
   "metadata": {},
   "source": [
    "### `bokeh`"
   ]
  },
  {
   "cell_type": "markdown",
   "metadata": {},
   "source": [
    "Commençons par signaler notamment la bibliothèque [`bokeh`](https://bokeh.pydata.org/en/latest/), qui est développée principalement par Anaconda, dans un modèle open source.\n",
    "\n",
    "`bokeh` présente quelques bonnes propriétés qui nous semblent mériter d'être signalées."
   ]
  },
  {
   "cell_type": "markdown",
   "metadata": {},
   "source": [
    "Pour commencer cette bibliothèque utilise une architecture qui permet de *penser la visualisation comme quelque chose d'interactif* (disons une page html), et non pas de figé comme lorsqu'on pense en termes de feuille de papier. Notamment elle permet de faire collaborer du code Python avec du code JavaScript, qui offre immédiatement des possibilités bien plus pertinentes lorsqu'il s'agit de créer des interactions utilisateur qui soient attractives et efficaces. Signalons en passant, à cet égard, qu'elle utilise [la librairie JavaScript `d3.js`](https://d3js.org/), qui est devenu un standard de fait plus ou moins incontournable dans le domaine de la visualisation.\n",
    "\n",
    "En tout état de cause, elle offre une interface de programmation qui tient compte d'environnements comme les notebooks, ce qui peut s'avérer un atout précieux si vous utilisez massivement ce support, comme on va le voir, précisément, dans ce notebook."
   ]
  },
  {
   "cell_type": "markdown",
   "metadata": {},
   "source": [
    "Il peut aussi être intéressant de savoir que `bokeh` offre des possibilités natives de [visualisation de graphes](https://bokeh.pydata.org/en/latest/docs/user_guide/graph.html) et de [ données géographiques](https://bokeh.pydata.org/en/latest/docs/user_guide/geo.html#)."
   ]
  },
  {
   "cell_type": "markdown",
   "metadata": {},
   "source": [
    "Par contre à ce stade du développement, la visualisation en 3D n'est sans doute pas le point fort de `bokeh`. C'est une option qui reste possible (voir [par exemple ceci](https://github.com/bokeh/bokeh/tree/master/examples/app/surface3d)), mais cela est pour l'instant considéré comme une extension de la librairie, et donc n'est accessible qu'au prix de l'écriture de code javascript."
   ]
  },
  {
   "cell_type": "markdown",
   "metadata": {},
   "source": [
    "Pour une présentation plus complète, je vous renvoie à [la documentation utilisateur](https://bokeh.pydata.org/en/latest/docs/user_guide.html)."
   ]
  },
  {
   "cell_type": "markdown",
   "metadata": {},
   "source": [
    "### `bokeh` dans les notebooks"
   ]
  },
  {
   "cell_type": "markdown",
   "metadata": {},
   "source": [
    "Nous allons rapidement illustrer ici comment `bokeh` s'interface avec l'environnement des notebooks pour créer une visualisation interactive. Vous remarquerez que dans le code qui suit, on n'a **pas eu besoin de mentionner** de *magic* ipython, comme lorsqu'on avait du faire dans le complément sur les notebooks interactifs :\n",
    "\n",
    "```python\n",
    "%matplotlib notebook\n",
    "```"
   ]
  },
  {
   "cell_type": "code",
   "execution_count": null,
   "metadata": {},
   "outputs": [],
   "source": [
    "import numpy as np"
   ]
  },
  {
   "cell_type": "code",
   "execution_count": null,
   "metadata": {},
   "outputs": [],
   "source": [
    "# l'attirail de notebooks interactifs\n",
    "from ipywidgets import interact, fixed, FloatSlider, Dropdown"
   ]
  },
  {
   "cell_type": "code",
   "execution_count": null,
   "metadata": {},
   "outputs": [],
   "source": [
    "# les imports pour bokeh\n",
    "from bokeh.plotting import figure, show\n",
    "# dans la rubrique entrée-sortie, on trouve\n",
    "# les outils pour produire du html\n",
    "#  (le mode par défaut)\n",
    "# ou pour interactig avec un notebook\n",
    "from bokeh.io import push_notebook, output_notebook"
   ]
  },
  {
   "cell_type": "code",
   "execution_count": null,
   "metadata": {},
   "outputs": [],
   "source": [
    "# c'est cette déclaration qui remplace\n",
    "# si on veut la magic  '%matplotlib notebook'\n",
    "output_notebook()"
   ]
  },
  {
   "cell_type": "markdown",
   "metadata": {},
   "source": [
    "*****"
   ]
  },
  {
   "cell_type": "code",
   "execution_count": null,
   "metadata": {},
   "outputs": [],
   "source": [
    "# on crée un objet figure\n",
    "figure1 = figure(\n",
    "    title=\"fonctions trigonométriques\",\n",
    "    plot_height=300, plot_width=600,\n",
    "    # c'est là notamment qu'on précise\n",
    "    # l'intervalle en y\n",
    "    y_range=(-5, 5),\n",
    ")"
   ]
  },
  {
   "cell_type": "code",
   "execution_count": null,
   "metadata": {},
   "outputs": [],
   "source": [
    "# on initialise la figure en créant\n",
    "# un objet courbe\n",
    "x = np.linspace(0, 2*np.pi, 2000)\n",
    "y = np.sin(x)\n",
    "courbe_trigo = figure1.line(x, y, color=\"#2222aa\", line_width=3)"
   ]
  },
  {
   "cell_type": "code",
   "execution_count": null,
   "metadata": {},
   "outputs": [],
   "source": [
    "# la fonction de mise à jour, qui sera connectée\n",
    "# à interact\n",
    "def update_trigo(function, frequency=1,\n",
    "                 amplitude=1, phase=0,\n",
    "                 # l'objet handle correspond\n",
    "                 # à une figure à mettre à jour\n",
    "                 *, handle):\n",
    "    # c'est ici qu'on modifie les données\n",
    "    # utilisées pour produire la courbe\n",
    "    courbe_trigo.data_source.data['y'] = \\\n",
    "       amplitude * function(frequency * x + phase)\n",
    "    # et c'est ici qu'on provoque la mise à jour\n",
    "    push_notebook(handle)"
   ]
  },
  {
   "cell_type": "code",
   "execution_count": null,
   "metadata": {},
   "outputs": [],
   "source": [
    "# au moment où on matérialise l'objet figure\n",
    "# on récupère une `handle` qui lui correspond\n",
    "handle1 = show(figure1, notebook_handle=True)"
   ]
  },
  {
   "cell_type": "code",
   "execution_count": null,
   "metadata": {},
   "outputs": [],
   "source": [
    "# maintenant on peut créer un interacteur\n",
    "interact(update_trigo, \n",
    "         # on peut définir les options sont des tuples (label, valeur)\n",
    "         # et ici nos valeurs sont des fonctions\n",
    "         function=Dropdown(options =((\"sinus\", np.sin),\n",
    "                                     (\"cosinus\", np.cos),\n",
    "                                     (\"tangeante\", np.tan))),\n",
    "         frequency=(1,20),\n",
    "         amplitude=[0.5, 1, 3, 5],\n",
    "         phase=(0, 2*np.pi, 0.05),\n",
    "         handle=fixed(handle1),\n",
    "        );"
   ]
  },
  {
   "cell_type": "markdown",
   "metadata": {},
   "source": [
    "## Complément : niveau intermédiaire"
   ]
  },
  {
   "cell_type": "markdown",
   "metadata": {},
   "source": [
    "### Une classe pour ce genre d'usages"
   ]
  },
  {
   "cell_type": "markdown",
   "metadata": {},
   "source": [
    "En termes de conception, notre approche jusqu'ici est améliorable.  \n",
    "En effet par construction, nous devons partager des données entre l'initialisation et la mise à jour - cf. les variables globales comme `handle1` - et c'est, comme toujours, une pratique qu'on cherche à éviter.\n",
    "\n",
    "Voici une approche qui va réaliser exactement la même fonction, mais basée sur une classe; on va tirer profit de l'instance pour ranger proprement toutes les données."
   ]
  },
  {
   "cell_type": "code",
   "execution_count": null,
   "metadata": {},
   "outputs": [],
   "source": [
    "# première version d'une classe d'animation\n",
    "\n",
    "class Animation:\n",
    "\n",
    "    # la fonction doit être vectorisée\n",
    "    def create_figure(self, function, title, *,\n",
    "                      y_range=(-5, 5), height=300, width=600):\n",
    "        self.figure = figure(\n",
    "            title=title, y_range=y_range,\n",
    "            plot_height=height, plot_width=width)\n",
    "        self.x = np.linspace(0, 2*np.pi, 200)\n",
    "        y = function(self.x)\n",
    "        self.courbe = self.figure.line(self.x, y, color=\"#2222aa\", line_width=3)\n",
    "        self.handle = show(self.figure, notebook_handle=True)\n",
    "        \n",
    "    # on passe directement la fonction en paramètre\n",
    "    def update_figure(self, function, frequency, amplitude, phase):\n",
    "        new_y = amplitude * function(frequency * self.x + phase)\n",
    "        self.courbe.data_source.data['y'] = new_y\n",
    "        push_notebook(self.handle)\n",
    "     \n",
    "    def interact(self):\n",
    "        # interact nous impose de passer une simple fonction\n",
    "        # pour passer 'self' à cette fonction on crée une cloture\n",
    "        def closure(function, frequency, amplitude, phase):\n",
    "            self.update_figure(function, frequency, amplitude, phase)\n",
    "        interact(closure,\n",
    "                 function = Dropdown(\n",
    "                     options=(('sinus', np.sin), ('cosinus', np.cos), ('tangeante', np.tan))),\n",
    "                 frequency=(1, 20),\n",
    "                 amplitude=[0.5, 1, 3, 5],\n",
    "                 phase=(0, 2*np.pi, 0.05),\n",
    "                )"
   ]
  },
  {
   "cell_type": "code",
   "execution_count": null,
   "metadata": {},
   "outputs": [],
   "source": [
    "a1 = Animation()\n",
    "a1.create_figure(np.sin, \"fonctions trigonométriques\")"
   ]
  },
  {
   "cell_type": "code",
   "execution_count": null,
   "metadata": {},
   "outputs": [],
   "source": [
    "a1.interact()"
   ]
  },
  {
   "cell_type": "markdown",
   "metadata": {},
   "source": [
    "**Remarque**\n",
    "\n",
    "Je vous recommande cette pratique car, à nouveau, cela permet d'éviter les variables globales qui sont **toujours** une mauvaise idée; tous les morceaux interdépendants sont regroupés, ainsi on limite la possibilité de casser le code en ne modifiant qu'un morceau; la classe matérialise les interdépendances entre les objets `figure`, `handle` et `courbe`; remarquez qu'en fait on n'a pas strictement besoin de `self.figure` comme attribut de l'instance."
   ]
  },
  {
   "cell_type": "markdown",
   "metadata": {},
   "source": [
    "*****"
   ]
  },
  {
   "cell_type": "markdown",
   "metadata": {
    "run_control": {
     "frozen": false,
     "read_only": false
    },
    "slideshow": {
     "slide_type": "slide"
    }
   },
   "source": [
    "### Exemple : distribution uniforme"
   ]
  },
  {
   "cell_type": "markdown",
   "metadata": {},
   "source": [
    "Voyons un deuxième exemple avec `bokeh`. Vous pouvez prendre ceci comme un exercice, et le faire de votre côté avant de lire la suite du notebook."
   ]
  },
  {
   "cell_type": "markdown",
   "metadata": {},
   "source": [
    "On veut ici écrire un outil qui déplace et déforme une distribution de points; on part d'une distribution de N points calculée aléatoirement une bonne fois au début dans le cercle unité; grâce aux réglages on pourra déformer ce nuage de points, qui va devenir une ellipse, grâce aux réglages suivants :\n",
    "\n",
    "* `dx` et `dy`, les coordonnées du centre de l'ellipse,\n",
    "* `rx` et `ry` les rayons en x et en y de l'ellipse,\n",
    "* et enfin `alpha` l'angle de rotation de l'ellipse."
   ]
  },
  {
   "cell_type": "markdown",
   "metadata": {},
   "source": [
    "****"
   ]
  },
  {
   "cell_type": "code",
   "execution_count": null,
   "metadata": {
    "run_control": {
     "frozen": false,
     "read_only": false
    },
    "slideshow": {
     "slide_type": "-"
    }
   },
   "outputs": [],
   "source": [
    "# petit utilitaire pour calculer la distribution\n",
    "# uniforme de départ\n",
    "def uniform_distribution(N):\n",
    "    # on tire au hasard un rho et un rayon\n",
    "    rhos = 2 * np.pi * np.random.sample(N)\n",
    "    rads = np.random.sample(N)\n",
    "    # il faut prendre la racine carrée du rayon\n",
    "    # sinon ce n'est pas uniforme dans le plan\n",
    "    circle_x = np.sqrt(rads) * np.cos(rhos)\n",
    "    circle_y = np.sqrt(rads) * np.sin(rhos)\n",
    "    return circle_x, circle_y"
   ]
  },
  {
   "cell_type": "code",
   "execution_count": null,
   "metadata": {},
   "outputs": [],
   "source": [
    "# regardons ça rapidement,  - avec matplotlib\n",
    "# pour vérifier que la répartition est bien homogène\n",
    "import matplotlib.pyplot as plt\n",
    "plt.figure(figsize=(4, 4))\n",
    "X, Y = uniform_distribution(2000)\n",
    "plt.scatter(X, Y, marker='.', s=1, color='red');"
   ]
  },
  {
   "cell_type": "markdown",
   "metadata": {},
   "source": [
    "#### un peu de variété"
   ]
  },
  {
   "cell_type": "code",
   "execution_count": null,
   "metadata": {},
   "outputs": [],
   "source": [
    "# et aussi: pour que ce soit plus joli \n",
    "# et surtout plus facile à suivre visuellement\n",
    "# je tire au hasard des couleurs\n",
    "# et des tailles pour les points\n",
    "def enhanced_uniform_distribution(N):\n",
    "    # on calcule la distribution initiale\n",
    "    # (celle-ci est vraiment uniforme)\n",
    "    # dans le cercle de rayon 1\n",
    "    x, y = uniform_distribution(N)\n",
    "\n",
    "    # le rouge entre 50 et 250\n",
    "    reds = 50 + 200 * np.random.random(size=N)\n",
    "    # le vert entre 30 et 250\n",
    "    greens = 30 + 220 * np.random.random(size=N)\n",
    "    # la mise en forme des couleurs\n",
    "    # le bleu est constant à 150\n",
    "    colors = [\n",
    "        f\"#{int(red):02x}{int(green):02x}{150:02x}\"\n",
    "        for red, green in zip(reds, greens)\n",
    "    ]\n",
    "\n",
    "    # les rayons des points; entre 0.05 et 0.25\n",
    "    radii = 0.05 + np.random.random(size=N) * .20\n",
    "    \n",
    "    return x, y, colors, radii"
   ]
  },
  {
   "cell_type": "code",
   "execution_count": null,
   "metadata": {},
   "outputs": [],
   "source": [
    "# c'est ici qu'on commence à faire du bokeh\n",
    "\n",
    "# j'applique la technique qu'on vient de voir\n",
    "# en créant une classe \n",
    "# pour éviter les variables globales\n",
    "\n",
    "class AnimatedDistribution:\n",
    "\n",
    "    def __init__(self, N):\n",
    "        self.N = N\n",
    "\n",
    "        \n",
    "    def show(self):\n",
    "        # les choix des bornes sont très arbitraires\n",
    "        # dans une version plus élaborée tous ces détails pourraient\n",
    "        # être passés en paramètre au constructeur\n",
    "        self.figure = figure(\n",
    "            title=\"distribution pseudo-uniforme\",\n",
    "            plot_height=300, plot_width=300,\n",
    "            x_range=(-10, 10),\n",
    "            y_range=(-10, 10),\n",
    "        )\n",
    "        \n",
    "        # on range x0 et y0 dans des attributs de l'instance\n",
    "        # pour pouvoir faire les mises à jour\n",
    "        self.x0, self.y0, colors, radii = enhanced_uniform_distribution(self.N)\n",
    "        \n",
    "        # le paquets de cercles\n",
    "        self.cloud = self.figure.circle(\n",
    "            self.x0, self.y0, \n",
    "            radius = radii,\n",
    "            fill_color=colors, fill_alpha=0.6,\n",
    "            line_color=None, line_width=.1,\n",
    "        )\n",
    "        \n",
    "        # et enfin la poignée qui, à nouveau, sera nécessaire\n",
    "        # pour les mises à jour\n",
    "        self.handle = show(self.figure, notebook_handle=True)\n",
    "\n",
    "    def update(self, rx, ry, dx, dy, alpha):\n",
    "        # on recalcule les x et y\n",
    "        # à partir des valeurs initiales\n",
    "        s, c = np.sin(alpha), np.cos(alpha)\n",
    "        x = dx + c * rx * self.x0 - s * ry * self.y0\n",
    "        y = dy + s * rx * self.x0 + c * ry * self.y0\n",
    "        self.cloud.data_source.data['x'] = x\n",
    "        self.cloud.data_source.data['y'] = y\n",
    "        push_notebook(self.handle)        \n",
    "        \n",
    "    def interact(self):\n",
    "        def closure(rx, ry, dx, dy, alpha):\n",
    "            self.update(rx, ry, dx, dy, alpha)\n",
    "        interact(closure,\n",
    "            rx=FloatSlider(min=.5, max=8,\n",
    "                           step=.1, value=1.),\n",
    "            ry=FloatSlider(min=.5, max=8,\n",
    "                           step=.1, value=1.),\n",
    "            dx=(-3, +3, .2),\n",
    "            dy=(-3, +3, .2),\n",
    "            alpha=FloatSlider(min=0., max=np.pi,\n",
    "                              step=.05, value=0.))"
   ]
  },
  {
   "cell_type": "code",
   "execution_count": null,
   "metadata": {
    "cell_style": "split"
   },
   "outputs": [],
   "source": [
    "dist = AnimatedDistribution(1000)\n",
    "dist.show()"
   ]
  },
  {
   "cell_type": "code",
   "execution_count": null,
   "metadata": {
    "cell_style": "split"
   },
   "outputs": [],
   "source": [
    "# pour déformer / déplacer\n",
    "dist.interact()"
   ]
  },
  {
   "cell_type": "markdown",
   "metadata": {
    "cell_style": "split"
   },
   "source": [
    "le point étant ici de montrer que toutes les modifications sont lisses, sans l'effet de *flickering* qu'on obtiendrait en redessinant toute l'image à chaque fois"
   ]
  },
  {
   "cell_type": "markdown",
   "metadata": {},
   "source": [
    "***\n",
    "***\n",
    "***\n"
   ]
  },
  {
   "cell_type": "markdown",
   "metadata": {},
   "source": [
    "### Autres bibliothèques"
   ]
  },
  {
   "cell_type": "markdown",
   "metadata": {},
   "source": [
    "Pour terminer cette digression sur les solutions alternatives à `matplotlib`, j'aimerais vous signaler enfin rapidement quelques autres options disponibles actuellement."
   ]
  },
  {
   "cell_type": "markdown",
   "metadata": {},
   "source": [
    "Comme on l'a dit en introduction, l'offre dans ce domaine est pléthorique, aussi si vous avez un témoignage à apporter sur une expérience que vous avez eue dans ce domaine, nous serons ravis de vous voir la partager dans le forum du cours."
   ]
  },
  {
   "cell_type": "markdown",
   "metadata": {},
   "source": [
    "#### plotly"
   ]
  },
  {
   "cell_type": "markdown",
   "metadata": {},
   "source": [
    "[la bibliothèque `plotly`](https://plot.ly/).\n",
    "\n",
    "Cette bibliothèque est disponible en open source, et l'offre commerciale de plotly est tournée vers le conseil autour de cette technologie. Comme pour `bokeh`, elle est conçue comme un hybride entre Python et JavaScript, au dessus de `d3.js`. En réalité, elle présente même la particularité d'offrir une API unique disponible depuis Python, JavaScript, et R."
   ]
  },
  {
   "cell_type": "markdown",
   "metadata": {},
   "source": [
    "#### mpld3"
   ]
  },
  {
   "cell_type": "markdown",
   "metadata": {},
   "source": [
    "https://mpld3.github.io/\n",
    "\n",
    "Je n'ai pas d'expérience à partager avec cette librairie, mais sur la papier l'approche semble prometteuse, puisqu'il s'agit (aussi) de conciler matplotlib [avec `d3.js`](d3js.org)."
   ]
  },
  {
   "cell_type": "markdown",
   "metadata": {},
   "source": [
    "#### k3d"
   ]
  },
  {
   "cell_type": "markdown",
   "metadata": {},
   "source": [
    "J'ai utilisé récemment [la librairie k3d](https://github.com/K3D-tools/K3D-jupyter/) et j'ai trouvé le résultat assez bluffant pour les visualisations 3d. C'est un outil assez spartiate en termes [de documentation](https://k3d-jupyter.org/), mais très performant.\n",
    "\n",
    "Cette librairie se prête bien à la technique d'interactions que nous avons développée dans ce notebook."
   ]
  },
  {
   "cell_type": "markdown",
   "metadata": {},
   "source": [
    "## Complément - niveau avancé (voire oiseux)"
   ]
  },
  {
   "cell_type": "markdown",
   "metadata": {},
   "source": [
    "Simplement pour finir, j'aimerais revenir sur notre classe `Animation`.\n",
    "\n",
    "On pourrait même considérer qu'une instance de notre classe `Animation` **est** une figure, et donc envisager de la faire hériter d'une classe `bokeh.figure`; sauf qu'en fait `bokeh.figure` n'est pas une classe mais une fonction (une *factory*, c'est-à-dire une fonction qui contruit des instances) :"
   ]
  },
  {
   "cell_type": "code",
   "execution_count": null,
   "metadata": {},
   "outputs": [],
   "source": [
    "# l'objet bokeh.figure est une factory, est pas une classe\n",
    "# comme on le devine grâce aux minuscules\n",
    "type(figure)"
   ]
  },
  {
   "cell_type": "code",
   "execution_count": null,
   "metadata": {},
   "outputs": [],
   "source": [
    "# la classe c'est celle-ci:\n",
    "type(figure())"
   ]
  },
  {
   "cell_type": "code",
   "execution_count": null,
   "metadata": {},
   "outputs": [],
   "source": [
    "# qu'on peut importer comme ceci\n",
    "from bokeh.plotting import Figure\n",
    "\n",
    "type(figure()) is Figure"
   ]
  },
  {
   "cell_type": "markdown",
   "metadata": {},
   "source": [
    "**Exercice (niveau avancé)** : \n",
    "\n",
    "vous semble-t-il possible de récrire la classe `Animation` comme une classe qui hérite cette fois de `Figure`; quels seraient les bénéfices de cette approche ?"
   ]
  }
 ],
 "metadata": {
  "ipub": {
   "sphinx": {
    "toggle_input": true,
    "toggle_input_all": true,
    "toggle_output": true,
    "toggle_output_all": true
   }
  },
  "jupytext": {
   "cell_metadata_filter": "all",
   "notebook_metadata_filter": "all,-language_info,-toc,-jupytext.text_representation.jupytext_version"
  },
  "kernelspec": {
   "display_name": "Python 3",
   "language": "python",
   "name": "python3"
  },
  "language_info": {
   "codemirror_mode": {
    "name": "ipython",
    "version": 3
   },
   "file_extension": ".py",
   "mimetype": "text/x-python",
   "name": "python",
   "nbconvert_exporter": "python",
   "pygments_lexer": "ipython3"
  },
  "livereveal": {
   "auto_select": "code",
   "auto_select_fragment": true,
   "autolaunch": false,
   "backimage": "media/nologo.png",
   "height": "100%",
   "start_slideshow_at": "selected",
   "theme": "simple",
   "transition": "fade",
   "width": "100%"
  },
  "notebookname": "bokeh et al.",
  "version": "3.0"
 },
 "nbformat": 4,
 "nbformat_minor": 4
}
