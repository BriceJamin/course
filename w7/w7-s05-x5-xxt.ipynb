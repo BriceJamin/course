{
 "cells": [
  {
   "cell_type": "markdown",
   "metadata": {},
   "source": [
    "<div class=\"licence\">\n",
    "<span>Licence CC BY-NC-ND</span>\n",
    "<span>Thierry Parmentelat &amp; Arnaud Legout</span>\n",
    "<span><img src=\"media/both-logos-small-alpha.png\" /></span>\n",
    "</div>"
   ]
  },
  {
   "cell_type": "markdown",
   "metadata": {},
   "source": [
    "# multiplier un vecteur colonne par son transposé"
   ]
  },
  {
   "cell_type": "code",
   "execution_count": null,
   "metadata": {},
   "outputs": [],
   "source": [
    "import numpy as np"
   ]
  },
  {
   "cell_type": "markdown",
   "metadata": {},
   "source": [
    "Étant donné un vecteur (colonne) $X$, on veut une fonction qui calcule le produit :\n",
    "\n",
    "$f(X) = X.X^t$"
   ]
  },
  {
   "cell_type": "markdown",
   "metadata": {},
   "source": [
    "On vous demande d'écrire une fonction `xxt` qui \n",
    "\n",
    "1. prend en entrée un tableau numpy en forme de colonne\n",
    "1. et lui applique la formule ci-dessus"
   ]
  },
  {
   "cell_type": "code",
   "execution_count": null,
   "metadata": {},
   "outputs": [],
   "source": [
    "# c'est ce qu'on voit sur cet exemple\n",
    "\n",
    "from corrections.exo_xxt import exo_xxt\n",
    "\n",
    "exo_xxt.example()"
   ]
  },
  {
   "cell_type": "code",
   "execution_count": null,
   "metadata": {},
   "outputs": [],
   "source": [
    "# à vous de jouer\n",
    "def xxt(column):\n",
    "    ..."
   ]
  },
  {
   "cell_type": "code",
   "execution_count": null,
   "metadata": {},
   "outputs": [],
   "source": [
    "exo_xxt.correction(xxt)"
   ]
  },
  {
   "cell_type": "markdown",
   "metadata": {},
   "source": [
    "## Remarques\n",
    "\n",
    "Vous trouverez dans les solutions 4 façons d'implémenter cette fonction; elles tiennent toutes en une ligne, et utilisent selon les cas : l'opérateur `@`, la méthode `array.dot()`, le broadcasting."
   ]
  },
  {
   "cell_type": "markdown",
   "metadata": {},
   "source": [
    "## Variantes"
   ]
  },
  {
   "cell_type": "markdown",
   "metadata": {},
   "source": [
    "Vous pouvez vous amuser à modifier votre code pour qu'il accepte en entrée :"
   ]
  },
  {
   "cell_type": "markdown",
   "metadata": {},
   "source": [
    "### autant d'arguments que d'éléments dans la colonne "
   ]
  },
  {
   "cell_type": "markdown",
   "metadata": {},
   "source": [
    "Ici on veut pouvoir appeler la fonction plutôt comme ceci :"
   ]
  },
  {
   "cell_type": "code",
   "execution_count": null,
   "metadata": {},
   "outputs": [],
   "source": [
    "from corrections.exo_xxt import xxt_nargs\n",
    "xxt_nargs(1, 2, 3, 4)"
   ]
  },
  {
   "cell_type": "markdown",
   "metadata": {},
   "source": [
    "### n'importe quel tableau numpy"
   ]
  },
  {
   "cell_type": "markdown",
   "metadata": {},
   "source": [
    "Maintenant on veut pouvoir accepter n'importe quel tableau, et le 'déplier' en colonne avant de faire le produit ; par exemple :"
   ]
  },
  {
   "cell_type": "code",
   "execution_count": null,
   "metadata": {},
   "outputs": [],
   "source": [
    "from corrections.exo_xxt import xxt_reshape\n",
    "\n",
    "array = np.array([[1, 2], [3, 4]])\n",
    "xxt_reshape(array)\n"
   ]
  },
  {
   "cell_type": "markdown",
   "metadata": {},
   "source": [
    "Pour expliciter, ce qui est demandé ici, on a 'déplié' la matrice carrée \n",
    "\n",
    "$$\n",
    "a = \\begin{matrix}\n",
    "1 & 2 \\\\\n",
    "3 & 4\n",
    "\\end{matrix}\n",
    "$$"
   ]
  },
  {
   "cell_type": "markdown",
   "metadata": {},
   "source": [
    "pour obtenir le vecteur colonne obtenu\n",
    "\n",
    "$$\n",
    "x = \\begin{bmatrix}\n",
    "1 \\\\ 2 \\\\ 3 \\\\ 4 \n",
    "\\end{bmatrix}\n",
    "$$\n",
    "\n",
    "sur lequel on a appliqué `xxt`"
   ]
  }
 ],
 "metadata": {
  "ipub": {
   "sphinx": {
    "toggle_input": true,
    "toggle_input_all": true,
    "toggle_output": true,
    "toggle_output_all": true
   }
  },
  "kernelspec": {
   "display_name": "Python 3",
   "language": "python",
   "name": "python3"
  },
  "language_info": {
   "codemirror_mode": {
    "name": "ipython",
    "version": 3
   },
   "file_extension": ".py",
   "mimetype": "text/x-python",
   "name": "python",
   "nbconvert_exporter": "python",
   "pygments_lexer": "ipython3",
   "version": "3.7.3"
  },
  "notebookname": "produit colonne par transposée",
  "version": "3.0"
 },
 "nbformat": 4,
 "nbformat_minor": 2
}
