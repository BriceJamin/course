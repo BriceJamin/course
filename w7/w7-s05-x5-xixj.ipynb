{
 "cells": [
  {
   "cell_type": "markdown",
   "metadata": {},
   "source": [
    "<div class=\"licence\">\n",
    "<span>Licence CC BY-NC-ND</span>\n",
    "<span>Thierry Parmentelat &amp; Arnaud Legout</span>\n",
    "<span><img src=\"media/both-logos-small-alpha.png\" /></span>\n",
    "</div>"
   ]
  },
  {
   "cell_type": "code",
   "execution_count": null,
   "metadata": {},
   "outputs": [],
   "source": [
    "%load_ext autoreload\n",
    "%autoreload 2"
   ]
  },
  {
   "cell_type": "markdown",
   "metadata": {},
   "source": [
    "# multiplier un vecteur colonne par son transposé"
   ]
  },
  {
   "cell_type": "code",
   "execution_count": null,
   "metadata": {},
   "outputs": [],
   "source": [
    "import numpy as np"
   ]
  },
  {
   "cell_type": "markdown",
   "metadata": {},
   "source": [
    "On vous demande d'écrire une fonction `xixj` qui \n",
    "\n",
    "1. accepte un nombre quelconque de paramètres, $x_1$, $x_2$, …, $x_n$, tous des flottants\n",
    "1. retourne une matrice carrée symétrique $M$ dont les termes valent\n",
    "\n",
    "$$\n",
    "m_{ij} = x_i . x_j\n",
    "$$\n",
    "\n",
    "Vous n'avez pas besoin de vérifier que l'appelant passe au moins un paramètre, ou dit autrement, les jeux de tests n'essaient pas d'appeler la fonction sans argument."
   ]
  },
  {
   "cell_type": "code",
   "execution_count": null,
   "metadata": {},
   "outputs": [],
   "source": [
    "# c'est ce qu'on voit sur cet exemple\n",
    "\n",
    "from corrections.exo_xixj import exo_xixj\n",
    "\n",
    "exo_xixj.example()"
   ]
  },
  {
   "cell_type": "code",
   "execution_count": null,
   "metadata": {},
   "outputs": [],
   "source": [
    "# à vous de jouer\n",
    "# n'oubliez pas de déclarer les paramètres de votre fonction\n",
    "def xixj():\n",
    "    ..."
   ]
  },
  {
   "cell_type": "code",
   "execution_count": null,
   "metadata": {},
   "outputs": [],
   "source": [
    "exo_xixj.correction(xixj)"
   ]
  },
  {
   "cell_type": "markdown",
   "metadata": {},
   "source": [
    "## Indices\n",
    "\n",
    "Vous trouverez dans les solutions 3 façons d'implémenter cette fonction; elles utilisent respectivement :  \n",
    "l'opérateur `@`, la méthode `array.dot()`, le broadcasting.  \n",
    "Souvenez vous que la transposée d'une matrice peut être obtenue en numpy avec l'attribut `.T` :\n"
   ]
  },
  {
   "cell_type": "code",
   "execution_count": null,
   "metadata": {},
   "outputs": [],
   "source": [
    "ligne = np.array([1, 2, 3])\n",
    "ligne.reshape(3, 1)"
   ]
  },
  {
   "cell_type": "code",
   "execution_count": null,
   "metadata": {},
   "outputs": [],
   "source": [
    "ligne.T"
   ]
  }
 ],
 "metadata": {
  "ipub": {
   "sphinx": {
    "toggle_input": true,
    "toggle_input_all": true,
    "toggle_output": true,
    "toggle_output_all": true
   }
  },
  "kernelspec": {
   "display_name": "Python 3",
   "language": "python",
   "name": "python3"
  },
  "language_info": {
   "codemirror_mode": {
    "name": "ipython",
    "version": 3
   },
   "file_extension": ".py",
   "mimetype": "text/x-python",
   "name": "python",
   "nbconvert_exporter": "python",
   "pygments_lexer": "ipython3",
   "version": "3.7.3"
  },
  "notebookname": "produit colonne par transposée",
  "version": "3.0"
 },
 "nbformat": 4,
 "nbformat_minor": 2
}
