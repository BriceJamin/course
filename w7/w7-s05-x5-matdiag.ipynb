{
 "cells": [
  {
   "cell_type": "markdown",
   "metadata": {},
   "source": [
    "<div class=\"licence\">\n",
    "<span>Licence CC BY-NC-ND</span>\n",
    "<span>Thierry Parmentelat &amp; Arnaud Legout</span>\n",
    "<span><img src=\"media/both-logos-small-alpha.png\" /></span>\n",
    "</div>"
   ]
  },
  {
   "cell_type": "code",
   "execution_count": null,
   "metadata": {},
   "outputs": [],
   "source": [
    "%load_ext autoreload\n",
    "%autoreload 2"
   ]
  },
  {
   "cell_type": "markdown",
   "metadata": {},
   "source": [
    "# construire une matrice diagonale"
   ]
  },
  {
   "cell_type": "code",
   "execution_count": null,
   "metadata": {},
   "outputs": [],
   "source": [
    "import numpy as np"
   ]
  },
  {
   "cell_type": "markdown",
   "metadata": {},
   "source": [
    "On vous demande d'écrire une fonction `matdiag` qui \n",
    "\n",
    "1. accepte un paramètre qui est une liste de flottants [$x_1$, $x_2$, …, $x_n$] \n",
    "1. retourne une matrice carrée diagonale dont les éléments valent\n",
    "\n",
    "$$\n",
    "m_{ii} = x_i \n",
    "$$\n",
    "$$\n",
    "m_{ij} = 0 \\ pour\\  i ≠ j\n",
    "$$\n",
    "\n",
    "Quelques précisions :\n",
    "\n",
    "* il est raisonnable de retourner toujours un tableau de type  `float64`\n",
    "* vous n'avez pas besoin de vérifier que l'appelant passe au moins un paramètre,\n",
    "  ou dit autrement, les jeux de tests n'essaient pas d'appeler la fonction sans argument."
   ]
  },
  {
   "cell_type": "code",
   "execution_count": null,
   "metadata": {},
   "outputs": [],
   "source": [
    "# c'est ce qu'on voit sur cet exemple\n",
    "\n",
    "from corrections.exo_matdiag import exo_matdiag\n",
    "\n",
    "exo_matdiag.example()"
   ]
  },
  {
   "cell_type": "code",
   "execution_count": null,
   "metadata": {},
   "outputs": [],
   "source": [
    "# à vous de jouer\n",
    "def matdiag(liste):\n",
    "    ..."
   ]
  },
  {
   "cell_type": "code",
   "execution_count": null,
   "metadata": {},
   "outputs": [],
   "source": [
    "exo_matdiag.correction(matdiag)"
   ]
  },
  {
   "cell_type": "markdown",
   "metadata": {},
   "source": [
    "## Indices\n",
    "\n",
    "Vous trouverez dans les solutions 3 façons d'implémenter cette fonction; elles utilisent respectivement :  \n",
    "\n",
    "une approche naïve, une approche à base de slicing, et une approche à base d'une fonction prédéfinie dans numpy."
   ]
  }
 ],
 "metadata": {
  "ipub": {
   "sphinx": {
    "toggle_input": true,
    "toggle_input_all": true,
    "toggle_output": true,
    "toggle_output_all": true
   }
  },
  "kernelspec": {
   "display_name": "Python 3",
   "language": "python",
   "name": "python3"
  },
  "language_info": {
   "codemirror_mode": {
    "name": "ipython",
    "version": 3
   },
   "file_extension": ".py",
   "mimetype": "text/x-python",
   "name": "python",
   "nbconvert_exporter": "python",
   "pygments_lexer": "ipython3",
   "version": "3.7.3"
  },
  "notebookname": "matrice diagonale",
  "version": "3.0"
 },
 "nbformat": 4,
 "nbformat_minor": 4
}
