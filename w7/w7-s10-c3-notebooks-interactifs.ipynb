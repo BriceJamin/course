{
 "cells": [
  {
   "cell_type": "markdown",
   "metadata": {},
   "source": [
    "<div class=\"licence\">\n",
    "<span>Licence CC BY-NC-ND</span>\n",
    "<span>Thierry Parmentelat &amp; Arnaud Legout</span>\n",
    "<span><img src=\"media/both-logos-small-alpha.png\" /></span>\n",
    "</div>"
   ]
  },
  {
   "cell_type": "markdown",
   "metadata": {},
   "source": [
    "# Notebooks interactifs"
   ]
  },
  {
   "cell_type": "markdown",
   "metadata": {},
   "source": [
    "## Complément - niveau basique"
   ]
  },
  {
   "cell_type": "markdown",
   "metadata": {},
   "source": [
    "Pour conclure cette série sur les outils de visualisation, nous allons voir quelques fonctionnalités disponibles uniquement dans l'environnement des notebooks, et qui offrent des possibilités supplémentaires par rapport aux visualisations que l'on a vues jusqu'à maintenant."
   ]
  },
  {
   "cell_type": "markdown",
   "metadata": {},
   "source": [
    "### installation"
   ]
  },
  {
   "cell_type": "markdown",
   "metadata": {},
   "source": [
    "Pour exécuter ou créer un notebook depuis votre ordinateur, il vous faut installer Jupyter, ce que se fait bien sûr depuis le terminal :\n",
    "```bash\n",
    "pip install jupyter\n",
    "```\n",
    "\n",
    "En 2020 il existe deux versions de l'interface Jupyter dites *classic* et *lab*, la seconde étant plus puissante en termes d'UI; pour installer le tout, faire plutôt\n",
    "\n",
    "```bash\n",
    "pip install jupyterlab\n",
    "```\n",
    "\n",
    "Pour lancer un serveur jupyter, faire selon le mode choisi\n",
    "```bash\n",
    "jupyter notebook\n",
    "# ou\n",
    "jupyter lab\n",
    "```"
   ]
  },
  {
   "cell_type": "markdown",
   "metadata": {},
   "source": [
    "### Contenus"
   ]
  },
  {
   "cell_type": "markdown",
   "metadata": {},
   "source": [
    "Pour le contenu des notebooks :\n",
    "\n",
    "* une cellule est marquée comme étant soit du code, soit du texte(markdown);\n",
    "* pour les cellules de markdown, on peut très simplement :\n",
    "  * insérer des formules mathématiques, en insérant un fragment de $\\LaTeX$ entre deux simples `$`, comme $\\forall x\\in\\mathbb{R}$, ou encore  \n",
    "  sur une ligne séparée en entourant entre deux doubles dollars `$$`, comme \n",
    "  $$\\forall \\epsilon>0, \\exists\\alpha>0, \\forall x, |x-x_0| < \\epsilon \\implies |f(x)-f(x_0|<\\epsilon$$\n",
    "\n",
    "  * et bien sûr [toute la panoplie des effets markdown](https://daringfireball.net/projects/markdown/syntax), quoi qu'il faut se méfier car tout cela n'est pas très bien standardisé actuellement.\n",
    "* un notebook choisit son *kernel* (en clair son langage); le mot Jupyter vient de Julia + Python + R, et aujourd'hui il y a moyen de faire tourner presque tous les langages, même `bash` et `C++` (mais en mode interprété bien sûr)"
   ]
  },
  {
   "cell_type": "markdown",
   "metadata": {},
   "source": [
    "### Courbes"
   ]
  },
  {
   "cell_type": "code",
   "execution_count": null,
   "metadata": {
    "run_control": {
     "frozen": false,
     "read_only": false
    }
   },
   "outputs": [],
   "source": [
    "import numpy as np\n",
    "import matplotlib.pyplot as plt"
   ]
  },
  {
   "cell_type": "markdown",
   "metadata": {},
   "source": [
    "Comme on l'a déjà vu plein de fois, la bonne façon de créer un graphique matplotlib c'est avec la formule magique suivante :"
   ]
  },
  {
   "cell_type": "code",
   "execution_count": null,
   "metadata": {
    "run_control": {
     "frozen": false,
     "read_only": false
    }
   },
   "outputs": [],
   "source": [
    "# ça c'est pour choisir la sortie 'notebook' \n",
    "%matplotlib notebook\n",
    "\n",
    "# et ça c'est pour dire 'interactive on'\n",
    "# pour éviter de devoir plt.show() tout le temps\n",
    "plt.ion()"
   ]
  },
  {
   "cell_type": "markdown",
   "metadata": {},
   "source": [
    "Avec ces réglages - enfin surtout le premier - il y a pas mal de possibilités qui sont très pratiques :\n",
    "\n",
    "* pour commencer on peut changer la taille de la courbe en cliquant sur le petit coin visible en bas à droite de la figure ![](media/matplotlib-resize.png)\n",
    "* les courbes apparaissent avec un barre d'outils en dessous; entraînez-vous à utiliser par exemple l'outil de zoom, pour agrandir et vous déplacer dans la courbe ![](../media/matplotlib-navigate.png)"
   ]
  },
  {
   "cell_type": "markdown",
   "metadata": {},
   "source": [
    "À titre d'exercice, sur cette courbe le nombre d'or correspond à une des racines du polynôme, à vous de trouver sa valeur avec une précision de "
   ]
  },
  {
   "cell_type": "code",
   "execution_count": null,
   "metadata": {},
   "outputs": [],
   "source": [
    "X = np.linspace(-2, 2)\n",
    "ZERO = X * 0\n",
    "def golden(x):\n",
    "    return x**2 - x - 1\n",
    "plt.plot(X, golden(X));\n",
    "plt.plot(X, ZERO);"
   ]
  },
  {
   "cell_type": "markdown",
   "metadata": {},
   "source": [
    "Voici à quoi je suis arrivé de mon côté (je ne dis pas que c'est forcément la méthode la plus rapide pour trouver le nombre d'or ;-):  \n",
    "Mais tous les outils de visualisation décents vons proposer des mécanismes analogues, soyez-y attentifs car ça fait parfois gagner beaucoup de temps.\n",
    "\n",
    "\n",
    "<img src=\"media/matplotlib-zoomed.png\" width=400px>"
   ]
  },
  {
   "cell_type": "markdown",
   "metadata": {},
   "source": [
    "### Exemple de notebook interactif"
   ]
  },
  {
   "cell_type": "markdown",
   "metadata": {},
   "source": [
    "Je vous signale enfin un [exemple de notebook publié par la célèbre revue *Nature*](http://www.nature.com/news/ipython-interactive-demo-7.21492), qui pourra vous donner une idée de ce qu'il est possible de faire avec un notebook interactif. Interactif dans le sens où on peut faire varier les paramètres d'une expérience et voir l'impact du changement se refléter immédiatement sur la visualisation.\n",
    "\n",
    "Comme il n'est malheureusement plus actif en ligne semble-t-il, \n",
    "je vous invite à le faire marcher localement à partir [de la version sur github ici](https://github.com/jupyter/nature-demo)."
   ]
  },
  {
   "cell_type": "markdown",
   "metadata": {},
   "source": [
    "## Complément - niveau intermédiaire"
   ]
  },
  {
   "cell_type": "markdown",
   "metadata": {},
   "source": [
    "### Une visualisation interactive simple : `interact`"
   ]
  },
  {
   "cell_type": "markdown",
   "metadata": {},
   "source": [
    "Pour refaire de notre coté quelque chose d'analogue, nous allons commencer par animer la fonction sinus, avec un bouton pour régler la fréquence. Pour cela nous allons utiliser la fonction `interact` ; à nouveau c'est un utilitaire qui fait partie de l'écosystème des notebooks, et plus précisément du module `ipywidgets` :"
   ]
  },
  {
   "cell_type": "code",
   "execution_count": null,
   "metadata": {},
   "outputs": [],
   "source": [
    "# dans cette partie on a besoin de \n",
    "# revenir dans un mode plus usuel\n",
    "%matplotlib inline"
   ]
  },
  {
   "cell_type": "code",
   "execution_count": null,
   "metadata": {},
   "outputs": [],
   "source": [
    "from ipywidgets import interact"
   ]
  },
  {
   "cell_type": "markdown",
   "metadata": {
    "run_control": {
     "frozen": false,
     "read_only": false
    },
    "slideshow": {
     "slide_type": "-"
    }
   },
   "source": [
    "Dans un premier temps, j'écris une fonction qui prend en paramètre la fréquence, et qui dessine la fonction sinus sur un intervalle fixe de 0. à $4\\pi$ :"
   ]
  },
  {
   "cell_type": "code",
   "execution_count": null,
   "metadata": {
    "run_control": {
     "frozen": false,
     "read_only": false
    },
    "slideshow": {
     "slide_type": "slide"
    }
   },
   "outputs": [],
   "source": [
    "def sinus(freq):\n",
    "    X = np.linspace(0., 4*np.pi, 200)\n",
    "    Y = np.sin(freq*X)\n",
    "    plt.plot(X, Y)"
   ]
  },
  {
   "cell_type": "code",
   "execution_count": null,
   "metadata": {
    "cell_style": "split",
    "run_control": {
     "frozen": false,
     "read_only": false
    }
   },
   "outputs": [],
   "source": [
    "sinus(1)"
   ]
  },
  {
   "cell_type": "code",
   "execution_count": null,
   "metadata": {
    "cell_style": "split",
    "run_control": {
     "frozen": false,
     "read_only": false
    }
   },
   "outputs": [],
   "source": [
    "sinus(0.5)"
   ]
  },
  {
   "cell_type": "markdown",
   "metadata": {},
   "source": [
    "Maintenant, plutôt que de tracer individuellement les courbes une à une, j'utilise `interact` qui va m'afficher une réglette pour changer le paramètre `freq`. Ça se présente comme ceci :"
   ]
  },
  {
   "cell_type": "code",
   "execution_count": null,
   "metadata": {
    "run_control": {
     "frozen": false,
     "read_only": false
    }
   },
   "outputs": [],
   "source": [
    "# je change maintenant la taille des visualisations\n",
    "plt.figure(figsize=(12, 4));"
   ]
  },
  {
   "cell_type": "code",
   "execution_count": null,
   "metadata": {
    "run_control": {
     "frozen": false,
     "read_only": false
    }
   },
   "outputs": [],
   "source": [
    "interact(sinus, freq=(0.5, 10., 0.25));"
   ]
  },
  {
   "cell_type": "markdown",
   "metadata": {
    "run_control": {
     "frozen": false,
     "read_only": false
    },
    "slideshow": {
     "slide_type": "slide"
    }
   },
   "source": [
    "### Mécanisme d'`interact`"
   ]
  },
  {
   "cell_type": "markdown",
   "metadata": {
    "run_control": {
     "frozen": false,
     "read_only": false
    }
   },
   "source": [
    "La fonction `interact` s'attend à recevoir :\n",
    "\n",
    "* en premier argument : une fonction `f` ;\n",
    "* et ensuite autant d'arguments nommés supplémentaires que de paramètres attendus par `f`.\n",
    "\n",
    "Comme dans mon cas la fonction `sinus` attend un paramètre nommé `freq`, le deuxième argument de `interact` lui est passé aussi avec le nom `freq`."
   ]
  },
  {
   "cell_type": "markdown",
   "metadata": {},
   "source": [
    "### Les objets `Slider`"
   ]
  },
  {
   "cell_type": "markdown",
   "metadata": {
    "run_control": {
     "frozen": false,
     "read_only": false
    }
   },
   "source": [
    "Chacun des arguments à `interact` (en plus de la fonction) correspond à un objet de type `Slider` (dans la ménagerie de `ipywidget`). Ici en passant juste le tuple `(0.5, 10., 0.25)` j'utilise un raccourci pour dire que je veux pouvoir régler le paramètre `freq` sur une plage allant de `0.5` à `10` avec un pas de `0.25`."
   ]
  },
  {
   "cell_type": "markdown",
   "metadata": {},
   "source": [
    "Mon premier exemple avec `interact` est en réalité équivalent à ceci :"
   ]
  },
  {
   "cell_type": "code",
   "execution_count": null,
   "metadata": {},
   "outputs": [],
   "source": [
    "from ipywidgets import FloatSlider"
   ]
  },
  {
   "cell_type": "code",
   "execution_count": null,
   "metadata": {},
   "outputs": [],
   "source": [
    "# exactement équivalent à la version ci-dessus\n",
    "interact(sinus, freq=FloatSlider(min=0.5, max=10., step=0.25));"
   ]
  },
  {
   "cell_type": "markdown",
   "metadata": {},
   "source": [
    "Mais en utilisant la forme bavarde, je peux choisir davantage d'options, comme notamment :\n",
    "\n",
    "* mettre `continuous_update = False` ; l'effet de ce réglage, c'est que l'on met à jour la figure seulement lorsque je lâche la réglette ; c'est utile lorsque les calculs sont un peu lents, comme ici avec l'infrastructure notebook qui est à distance ;\n",
    "* mettre `value=1.` pour choisir la valeur initiale :\n"
   ]
  },
  {
   "cell_type": "code",
   "execution_count": null,
   "metadata": {},
   "outputs": [],
   "source": [
    "# exactement équivalent à la version ci-dessus\n",
    "# sauf qu'on ne redessine que lorsque la réglette\n",
    "# est relâchée\n",
    "interact(sinus, freq=FloatSlider(min=0.5, max=10., \n",
    "                                 step=0.25, value=1.,\n",
    "                                 continuous_update=False));"
   ]
  },
  {
   "cell_type": "markdown",
   "metadata": {},
   "source": [
    "### Plusieurs paramètres"
   ]
  },
  {
   "cell_type": "markdown",
   "metadata": {},
   "source": [
    "Voyons tout de suite un exemple avec deux paramètres, je vais écrire maintenant une fonction qui me permet de changer aussi la phase :"
   ]
  },
  {
   "cell_type": "code",
   "execution_count": null,
   "metadata": {},
   "outputs": [],
   "source": [
    "def sinus2(freq, phase):\n",
    "    X = np.linspace(0., 4*np.pi, 200)\n",
    "    Y = np.sin(freq*(X+phase))\n",
    "    plt.plot(X, Y)"
   ]
  },
  {
   "cell_type": "markdown",
   "metadata": {},
   "source": [
    "Et donc maintenant je passe à `interact` un troisième paramètre :"
   ]
  },
  {
   "cell_type": "code",
   "execution_count": null,
   "metadata": {},
   "outputs": [],
   "source": [
    "interact(sinus2,\n",
    "         freq=FloatSlider(min=0.5, max=10., step=0.5,\n",
    "                          continuous_update=False),\n",
    "         phase=FloatSlider(min=0., max=2*np.pi, step=np.pi/6, \n",
    "                           continuous_update=False),\n",
    "        );"
   ]
  },
  {
   "cell_type": "markdown",
   "metadata": {
    "run_control": {
     "frozen": false,
     "read_only": false
    },
    "slideshow": {
     "slide_type": "slide"
    }
   },
   "source": [
    "### Bouche-trou : `fixed`"
   ]
  },
  {
   "cell_type": "markdown",
   "metadata": {
    "run_control": {
     "frozen": false,
     "read_only": false
    }
   },
   "source": [
    "Si j'ai une fonction qui prend plus de paramètres que je ne veux montrer de réglettes, je peux fixer un des paramètres  par exemple comme ceci :"
   ]
  },
  {
   "cell_type": "code",
   "execution_count": null,
   "metadata": {},
   "outputs": [],
   "source": [
    "from ipywidgets import fixed"
   ]
  },
  {
   "cell_type": "code",
   "execution_count": null,
   "metadata": {
    "run_control": {
     "frozen": false,
     "read_only": false
    }
   },
   "outputs": [],
   "source": [
    "# avec une fonction à deux argument,\n",
    "# je peux en fixer un, et n'avoir qu'une réglette\n",
    "# pour fixer celui qui est libre\n",
    "interact(sinus2, freq=fixed(1.),\n",
    "         phase=FloatSlider(min=0., max=2*np.pi, step=np.pi/6),\n",
    "        );"
   ]
  },
  {
   "cell_type": "markdown",
   "metadata": {
    "run_control": {
     "frozen": false,
     "read_only": false
    },
    "slideshow": {
     "slide_type": "slide"
    }
   },
   "source": [
    "## Widgets"
   ]
  },
  {
   "cell_type": "markdown",
   "metadata": {
    "run_control": {
     "frozen": false,
     "read_only": false
    }
   },
   "source": [
    "Il existe toute une famille de widgets, dont `FloatSlider` est l'exemple le plus courant, mais vous pouvez aussi :\n",
    "\n",
    "* créer des radio bouton pour entrer un paramètre booléen ;\n",
    "* ou une saisie de texte pour entre un paramètre de type `str` ;\n",
    "* ou une liste à choix multiples…\n",
    "\n",
    "Bref, vous pouvez créer une mini interface-utilisateur avec des objets graphiques simples choisis dans une palette assez complète pour ce type d'application.\n",
    "\n",
    "Voyez [les détails complets sur `readthedocs.io`](http://ipywidgets.readthedocs.io/en/latest/examples/Using%20Interact.html)"
   ]
  },
  {
   "cell_type": "code",
   "execution_count": null,
   "metadata": {
    "run_control": {
     "frozen": false,
     "read_only": false
    },
    "slideshow": {
     "slide_type": "slide"
    }
   },
   "outputs": [],
   "source": [
    "# de même qu'un tuple était ci-dessus un raccourci pour un FloatSlider\n",
    "# une liste ou un dictionnaire est transformé(e) en un Dropdown\n",
    "interact(sinus, freq={'rapide': 10., 'moyenne': 1., 'lente': 0.1});"
   ]
  },
  {
   "cell_type": "markdown",
   "metadata": {
    "run_control": {
     "frozen": false,
     "read_only": false
    },
    "slideshow": {
     "slide_type": "slide"
    }
   },
   "source": [
    "Voyez la [liste complète des widgets ici](http://ipywidgets.readthedocs.io/en/latest/examples/Widget%20List.html).\n"
   ]
  },
  {
   "cell_type": "markdown",
   "metadata": {},
   "source": [
    "### Dashboards"
   ]
  },
  {
   "cell_type": "markdown",
   "metadata": {},
   "source": [
    "Lorsqu'on a besoin de faire une interface un peu plus soignée, on peut créer sa propre disposition de boutons et autres réglages."
   ]
  },
  {
   "cell_type": "markdown",
   "metadata": {},
   "source": [
    "Voici un exemple de dashboard, uniquement pour vous donner une meilleure idée, qui pour changer agit sur une visualisation réalisée avec plot.ly plutôt que matplotlib :"
   ]
  },
  {
   "cell_type": "code",
   "execution_count": null,
   "metadata": {},
   "outputs": [],
   "source": [
    "###\n",
    "# EDIT - juillet 2019 - \n",
    "###\n",
    "# en faisant simplement\n",
    "# pip install plotly\n",
    "# j'obtiens la version 4.0.0 de plotly\n",
    "# qui de toute évidence a changé depuis \n",
    "# la rédaction initiale de ce document\n",
    "#\n",
    "# c'est pourquoi je m'arrange pour charger plotly-3.10.0\n",
    "# dont je sais qu'elle fonctionne avec ce code:\n",
    "# pip install plotly==3.10.0\n",
    "#\n",
    "# si quelqu'un sait faire marcher la nouvelle version\n",
    "# je suis intéressé pour l'intégrer, n'hésitez pas à \n",
    "# m'envoyer un pull request\n",
    "# \n",
    "\n",
    "import plotly\n",
    "plotly.__version__"
   ]
  },
  {
   "cell_type": "code",
   "execution_count": null,
   "metadata": {},
   "outputs": [],
   "source": [
    "# on importe la bibliothèque plot.ly\n",
    "import chart_studio.plotly as py\n",
    "import plotly.graph_objs as go"
   ]
  },
  {
   "cell_type": "code",
   "execution_count": null,
   "metadata": {},
   "outputs": [],
   "source": [
    "# il est impératif d'utiliser plot.ly en mode 'offline' \n",
    "# pour in mode interactif, \n",
    "# car sinon les affichages sont beaucoup trop lents\n",
    "import plotly.offline as pyoff\n",
    "\n",
    "pyoff.init_notebook_mode()"
   ]
  },
  {
   "cell_type": "code",
   "execution_count": null,
   "metadata": {},
   "outputs": [],
   "source": [
    "# les widgets pour construire le tableau de bord\n",
    "from ipywidgets import (interactive_output,\n",
    "                        IntSlider, Dropdown, Layout, HBox, VBox, Text)\n",
    "from IPython.display import display"
   ]
  },
  {
   "cell_type": "code",
   "execution_count": null,
   "metadata": {},
   "outputs": [],
   "source": [
    "# une fonction sinus à 4 réglages\n",
    "# qu'on réalise pour changer avec plot.ly\n",
    "# et non pas avec matplotlib\n",
    "def sinus4(freq, phase, amplitude, domain):\n",
    "\n",
    "    X = np.linspace(0., domain*np.pi, 500)\n",
    "    Y = amplitude * np.sin(freq*(X+phase))\n",
    "\n",
    "    data = [ go.Scatter(x=X, y=Y, mode='lines', name='sinus') ]\n",
    "    # je fixe l'amplitude à 10 pour que les animations\n",
    "    # soient plus parlantes\n",
    "    layout = go.Layout(\n",
    "        yaxis = {'range' : [-10, 10]},\n",
    "        title=\"Exemple de graphique interactif avec dashboard\",\n",
    "        height=500,\n",
    "        width=500,\n",
    "    )\n",
    "    figure = go.Figure(data=data, layout=layout)\n",
    "    pyoff.iplot(figure)"
   ]
  },
  {
   "cell_type": "code",
   "execution_count": null,
   "metadata": {
    "cell_style": "center",
    "run_control": {
     "frozen": false,
     "read_only": false
    }
   },
   "outputs": [],
   "source": [
    "def my_dashboard():\n",
    "    \"\"\"\n",
    "    create and display a dashboard\n",
    "    return a dictionary name->widget suitable for interactive_output\n",
    "    \"\"\"\n",
    "    # dashboard pieces as widgets\n",
    "    l_75 = Layout(width='75%')\n",
    "    l_50 = Layout(width='50%')\n",
    "    l_25 = Layout(width='25%')\n",
    "\n",
    "    w_freq = Dropdown(options=list(range(1, 10)),\n",
    "                      value = 1,\n",
    "                      description = \"fréquence\",\n",
    "                      layout=l_50)\n",
    "    w_phase = FloatSlider(min=0., max = 2*np.pi, step=np.pi/12,\n",
    "                          description=\"phase\",\n",
    "                          value=0., layout=l_75)\n",
    "    w_amplitude = Dropdown(options={\"micro\" : .1,\n",
    "                                    \"mini\" : .5,\n",
    "                                    \"normal\" : 1.,\n",
    "                                    \"grand\" : 3.,\n",
    "                                    \"énorme\" : 10.},\n",
    "                           value = 3.,\n",
    "                           description = \"amplitude\",\n",
    "                           layout = l_25)\n",
    "    w_domain = IntSlider(min=1, max=10, description=\"dom. n * π\", layout=l_50)\n",
    "\n",
    "    # make up a dashboard\n",
    "    dashboard = VBox([HBox([w_amplitude, w_phase]),\n",
    "                      HBox([w_domain, w_freq]),\n",
    "                     ])\n",
    "    display(dashboard)\n",
    "    return dict(freq=w_freq, phase=w_phase,\n",
    "                amplitude=w_amplitude, domain=w_domain)"
   ]
  },
  {
   "cell_type": "markdown",
   "metadata": {},
   "source": [
    "*****\n",
    "Avec tout ceci en place on peut montrer un dialogue interactif pour changer tous les paramètres de sinus4."
   ]
  },
  {
   "cell_type": "code",
   "execution_count": null,
   "metadata": {
    "run_control": {
     "frozen": false,
     "read_only": false
    },
    "scrolled": false
   },
   "outputs": [],
   "source": [
    "# interactively call sinus4\n",
    "# attention il reste un bug:\n",
    "# au tout début rien ne s'affiche,\n",
    "# il faut faire bouger au moins un réglage\n",
    "interactive_output(sinus4, my_dashboard())"
   ]
  }
 ],
 "metadata": {
  "ipub": {
   "sphinx": {
    "toggle_input": true,
    "toggle_input_all": true,
    "toggle_output": true,
    "toggle_output_all": true
   }
  },
  "jupytext": {
   "cell_metadata_filter": "all",
   "notebook_metadata_filter": "all,-language_info,-toc,-jupytext.text_representation.jupytext_version"
  },
  "kernelspec": {
   "display_name": "Python 3",
   "language": "python",
   "name": "python3"
  },
  "language_info": {
   "codemirror_mode": {
    "name": "ipython",
    "version": 3
   },
   "file_extension": ".py",
   "mimetype": "text/x-python",
   "name": "python",
   "nbconvert_exporter": "python",
   "pygments_lexer": "ipython3",
   "version": "3.7.3"
  },
  "livereveal": {
   "auto_select": "code",
   "auto_select_fragment": true,
   "autolaunch": false,
   "backimage": "media/nologo.png",
   "height": "100%",
   "start_slideshow_at": "selected",
   "theme": "simple",
   "transition": "fade",
   "width": "100%"
  },
  "notebookname": "Notebooks interactifs",
  "version": "3.0"
 },
 "nbformat": 4,
 "nbformat_minor": 4
}
