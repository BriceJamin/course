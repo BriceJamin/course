{
 "cells": [
  {
   "cell_type": "markdown",
   "metadata": {},
   "source": [
    "<div class=\"licence\">\n",
    "<span>Licence CC BY-NC-ND</span>\n",
    "<span>Thierry Parmentelat &amp; Arnaud Legout</span>\n",
    "<span><img src=\"media/both-logos-small-alpha.png\" /></span>\n",
    "</div>"
   ]
  },
  {
   "cell_type": "markdown",
   "metadata": {},
   "source": [
    "# Nouveautés par rapport aux vidéos"
   ]
  },
  {
   "cell_type": "markdown",
   "metadata": {},
   "source": [
    "## Complément - niveau intermédiaire"
   ]
  },
  {
   "cell_type": "markdown",
   "metadata": {},
   "source": [
    "Comme on l'a signalé au début de la semaine, `asyncio` a subi quelques modifications dans Python-3.7, que nous allons rapidement illustrer dans ce complément.\n",
    "\n",
    "Nous verrons aussi par ailleurs une curiosité liée à la dernière version de IPython, qui vise à faciliter le débuggage et la mise au point de code asynchrone."
   ]
  },
  {
   "cell_type": "markdown",
   "metadata": {},
   "source": [
    "### Python-3.7 et `asyncio`"
   ]
  },
  {
   "cell_type": "markdown",
   "metadata": {},
   "source": [
    "#### Documentation"
   ]
  },
  {
   "cell_type": "markdown",
   "metadata": {},
   "source": [
    "L'évolution la plus radicale est une refonte totale de la documentation. \n",
    "\n",
    "C'est une très bonne nouvelle, car de l'aveu même de Guido van Rossum, la documentation en place pour les versions 3.5 et 3.6 était particulièrement obscure; [voici comment il l'a annoncé](https://twitter.com/gvanrossum/status/1041889574052429826?lang=en) :\n",
    "\n",
    "> Finally the asyncio docs are not an embarrassment to us all.\n",
    "\n",
    "Si vous avez déjà eu l'occasion de parcourir ces anciennes documentations, et que vous les avez trouvées indigestes, sachez que vous n'êtes pas seul dans ce cas ;) Dans tous les cas je vous invite à [parcourir la nouvelle version](https://docs.python.org/3/library/asyncio.html), qui a le mérite d'apporter plus de réponses qu'elle ne soulève d'interrogations. Ce qui n'était pas vraiment le cas avant, c'est donc un grand progrès :)\n"
   ]
  },
  {
   "cell_type": "markdown",
   "metadata": {},
   "source": [
    "#### Accès plus facile"
   ]
  },
  {
   "cell_type": "markdown",
   "metadata": {},
   "source": [
    "Un certain nombre de changements ont été apportés à la librairie pour en rendre l'accès plus facile. \n",
    "\n",
    "Notamment, comme on l'a évoqué en début de semaine, on peut maintenant faire fonctionner une simple coroutine à des fins pédagogiques en faisait plus simplement:\n",
    "\n",
    "```python\n",
    ">>> import asyncio\n",
    ">>> async def hello_world():\n",
    "...     await asyncio.sleep(0.2)\n",
    "...     print(\"hello world\")\n",
    "...\n",
    ">>> asyncio.run(hello_world())\n",
    "hello world\n",
    "```"
   ]
  },
  {
   "cell_type": "markdown",
   "metadata": {},
   "source": [
    "On a également créé des raccourcis, comme par exemple:\n",
    "\n",
    "* `asyncio.create_task()` est un alias pour `asyncio.get_event_loop().create_task()`;\n",
    "* de même `asyncio.current_task()` et `asyncio.all_tasks()` font ce que vous imaginez;"
   ]
  },
  {
   "cell_type": "markdown",
   "metadata": {},
   "source": [
    "#### Commodité"
   ]
  },
  {
   "cell_type": "markdown",
   "metadata": {},
   "source": [
    "Changement un peu plus profond, la fonction `asyncio.get_running_loop()` permet d'accéder à la boucle courante.\n",
    "\n",
    "Si vous avez lu du code `asyncio` plus ancien, vous avez peut-être remarqué une tendance prononcée à passer un objet loop en paramètre à peu près partout. Grâce à cette fonction, cela n'est plus nécessaire, on est garanti de pouvoir retrouver, à partir de n'importe quelle coroutine, l'objet boucle qui nous pilote.\n",
    "\n",
    "De manière corollaire, une méthode `get_loop` a été ajoutée aux classes `Future` et `Task`."
   ]
  },
  {
   "cell_type": "markdown",
   "metadata": {},
   "source": [
    "#### Pas de changement de fond"
   ]
  },
  {
   "cell_type": "markdown",
   "metadata": {},
   "source": [
    "Sinon, en terme des concepts fondamentaux, tout le contenu du cours reste valide. "
   ]
  },
  {
   "cell_type": "markdown",
   "metadata": {},
   "source": [
    "#### Pour en savoir plus\n",
    "\n",
    "VOus retrouverez tous les détails dans la page suivante :\n",
    "\n",
    "<https://docs.python.org/3/whatsnew/3.7.html#whatsnew37-asyncio>"
   ]
  },
  {
   "cell_type": "markdown",
   "metadata": {},
   "source": [
    "### IPython7 et `asyncio`"
   ]
  },
  {
   "cell_type": "markdown",
   "metadata": {},
   "source": [
    "### `await` dans ipython-7\n",
    "\n",
    "Cette section ne s'applique pas *stricto sensu* à Python-3.7, mais à la version 7 de IPython.\n",
    "\n",
    "Le sujet, c'est ici encore de raccourcir le *boilerplate* nécessaire, lorsque vous avez écrit une coroutine et que vous voulez la tester."
   ]
  },
  {
   "cell_type": "markdown",
   "metadata": {},
   "source": [
    "##### Python standard"
   ]
  },
  {
   "cell_type": "markdown",
   "metadata": {},
   "source": [
    "Voici d'abord ce qui se passe avec l'interpréteur Python standard (ici en 3.7) :"
   ]
  },
  {
   "cell_type": "markdown",
   "metadata": {},
   "source": [
    "```python\n",
    "$ python3\n",
    "Python 3.7.0 (default, Jun 29 2018, 20:14:27)\n",
    "    <snip>\n",
    ">>> import asyncio\n",
    ">>>\n",
    ">>> async def hello_world():\n",
    "...     await asyncio.sleep(0.2)\n",
    "...     print(\"hello world\")\n",
    "...\n",
    ">>> await(hello_world())\n",
    "  File \"<stdin>\", line 1\n",
    "SyntaxError: 'await' outside function\n",
    ">>>\n",
    ">>> asyncio.run(hello_world())\n",
    "hello world\n",
    "```"
   ]
  },
  {
   "cell_type": "markdown",
   "metadata": {},
   "source": [
    "La syntaxe de Python nous interdit en effet d'utiliser `await` en dehors du code d'une coroutine, on l'a vu dans une des vidéos, et il nous faut faire appel à `asyncio.run()`."
   ]
  },
  {
   "cell_type": "markdown",
   "metadata": {},
   "source": [
    "##### IPython-7: on peut faire `await` au toplevel !"
   ]
  },
  {
   "cell_type": "markdown",
   "metadata": {},
   "source": [
    "Pour **simplifier encore** la mise en place de code asynchrone, depuis ipython-7, on peut carrément déclencher une coroutine en invoquant `await` dans la boucle principale de l'interpréteur :"
   ]
  },
  {
   "cell_type": "markdown",
   "metadata": {},
   "source": [
    "```python\n",
    "$ ipython3\n",
    "Python 3.7.0 (default, Jun 29 2018, 20:14:27)\n",
    "Type 'copyright', 'credits' or 'license' for more information\n",
    "IPython 7.0.1 -- An enhanced Interactive Python. Type '?' for help.\n",
    "\n",
    "In [1]: import asyncio\n",
    "\n",
    "In [2]: async def hello_world():\n",
    "   ...:     await asyncio.sleep(0.2)\n",
    "   ...:     print(\"hello world\")\n",
    "\n",
    "In [3]: await(hello_world())\n",
    "hello world\n",
    "```"
   ]
  },
  {
   "cell_type": "markdown",
   "metadata": {},
   "source": [
    "Du coup, cette façon de faire fonctionnera aussi dans un notebook, si vous avez la bonne version de IPython en dessous de Jupyter."
   ]
  }
 ],
 "metadata": {
  "ipub": {
   "sphinx": {
    "toggle_input": true,
    "toggle_input_all": true,
    "toggle_output": true,
    "toggle_output_all": true
   }
  },
  "kernelspec": {
   "display_name": "Python 3",
   "language": "python",
   "name": "python3"
  },
  "language_info": {
   "codemirror_mode": {
    "name": "ipython",
    "version": 3
   },
   "file_extension": ".py",
   "mimetype": "text/x-python",
   "name": "python",
   "nbconvert_exporter": "python",
   "pygments_lexer": "ipython3",
   "version": "3.7.0"
  },
  "livereveal": {
   "auto_select": "code",
   "auto_select_fragment": true,
   "autolaunch": false,
   "backimage": "media/nologo.png",
   "height": "100%",
   "start_slideshow_at": "selected",
   "theme": "simple",
   "transition": "fade",
   "width": "100%"
  },
  "notebookname": "Nouveautés en Python-3.7",
  "version": "3.0"
 },
 "nbformat": 4,
 "nbformat_minor": 2
}
