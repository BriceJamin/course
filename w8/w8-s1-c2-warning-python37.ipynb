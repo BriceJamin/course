{
 "cells": [
  {
   "cell_type": "markdown",
   "metadata": {},
   "source": [
    "<div class=\"licence\">\n",
    "<span>Licence CC BY-NC-ND</span>\n",
    "<span>Thierry Parmentelat &amp; Arnaud Legout</span>\n",
    "<span><img src=\"media/both-logos-small-alpha.png\" /></span>\n",
    "</div>"
   ]
  },
  {
   "cell_type": "markdown",
   "metadata": {},
   "source": [
    "#  Avertissement relatif à `asyncio` et Python-3.7"
   ]
  },
  {
   "cell_type": "markdown",
   "metadata": {},
   "source": [
    "## Complément - niveau intermédiaire"
   ]
  },
  {
   "cell_type": "markdown",
   "metadata": {},
   "source": [
    "Puisque cette semaine est consacrée à **`asyncio`**, il faut savoir que cette brique technologique est **relativement récente**, et qu'elle est du coup, plus que d'autres aspects de Python, **sujette à des évolutions**."
   ]
  },
  {
   "cell_type": "markdown",
   "metadata": {},
   "source": [
    "## Les vidéos utilisent Python-3.6"
   ]
  },
  {
   "cell_type": "markdown",
   "metadata": {},
   "source": [
    "Comme on l'a dit en préambule du cours, notre version de **référence** est **Python-3.6**. C'est la version utilisée  dans les vidéos. Par contre les notebooks sur FUN-MOOC utilisent à présent la version 3.7."
   ]
  },
  {
   "cell_type": "markdown",
   "metadata": {},
   "source": [
    "## Un résumé des nouveautés"
   ]
  },
  {
   "cell_type": "markdown",
   "metadata": {},
   "source": [
    "Vous trouverez à la fin de la semaine, dans la séquence consacrée aux bonnes pratiques, un résumé des améliorations  apportées depuis la version 3.6."
   ]
  },
  {
   "cell_type": "markdown",
   "metadata": {},
   "source": [
    "## L'essentiel est toujours d'actualité"
   ]
  },
  {
   "cell_type": "markdown",
   "metadata": {},
   "source": [
    "Cela étant dit, nos buts ici étaient principalement:\n",
    "\n",
    "* de vous faire découvrir ce nouveau paradigme,\n",
    "* de vous faire sentir dans quelles applications cela peut avoir un apport très précieux,\n",
    "* de bien vous faire comprendre ce qui se passe à l'exécution,\n",
    "* et de vous donner un aperçu de la façon dont tout cela est implémenté."
   ]
  },
  {
   "cell_type": "markdown",
   "metadata": {},
   "source": [
    "## Les différences les plus visibles"
   ]
  },
  {
   "cell_type": "markdown",
   "metadata": {},
   "source": [
    "Les plus grosses différences concernent la prise en main. Comme nous allons bientôt le voir, le \"*hello world*\" de `asyncio` était en Python-3.6 un peu *awkward*, cela nécessitait pas mal de circonlocutions.\n",
    "\n",
    "C'est-à-dire que pour faire fonctionner la coroutine :"
   ]
  },
  {
   "cell_type": "code",
   "execution_count": null,
   "metadata": {},
   "outputs": [],
   "source": [
    "# un exemple de coroutine \n",
    "import asyncio\n",
    "\n",
    "async def hello_world():\n",
    "    await asyncio.sleep(0.2)\n",
    "    print(\"Hello World\")"
   ]
  },
  {
   "cell_type": "markdown",
   "metadata": {},
   "source": [
    "### En Python-3.6 "
   ]
  },
  {
   "cell_type": "markdown",
   "metadata": {},
   "source": [
    "Pour exécuter cette coroutine dans un interpréteur Python-3.6, la syntaxe est un peu lourdingue :\n",
    "\n",
    "```python\n",
    "# pour exécuter uniquement cette coroutine en Python-3.6\n",
    "loop = asyncio.get_event_loop()\n",
    "loop.run_until_complete(hello_world())\n",
    "```"
   ]
  },
  {
   "cell_type": "markdown",
   "metadata": {},
   "source": [
    "### En Python-3.7\n",
    "\n",
    "En 3.7, on arrive au même résultat de manière beaucoup plus simple :\n",
    "\n",
    "```python\n",
    "# c'est beaucoup plus simple en 3.7\n",
    "asyncio.run(hello_world())\n",
    "```"
   ]
  },
  {
   "cell_type": "markdown",
   "metadata": {},
   "source": [
    "### Avec IPython 7\n",
    "\n",
    "Notez qu'avec IPython (et donc aussi dans les notebooks) c'est encore plus simple; en effet IPython s'est débrouillé pour autoriser la syntaxe suivante :"
   ]
  },
  {
   "cell_type": "code",
   "execution_count": null,
   "metadata": {},
   "outputs": [],
   "source": [
    "# depuis ipython, ou dans un notebook, vous pouvez faire simplement\n",
    "\n",
    "await hello_world()"
   ]
  },
  {
   "cell_type": "markdown",
   "metadata": {},
   "source": [
    "***Mise en garde*** attention toutefois, je vous mets en garde contre le fait que ceci est une **commodité** pour nous faciliter la vie, mais elle est **spécifique à IPython** et ne va pas fonctionner tel quel dans un programme exécuté directement par l'interpréteur Python standard."
   ]
  },
  {
   "cell_type": "code",
   "execution_count": null,
   "metadata": {
    "cell_style": "split"
   },
   "outputs": [],
   "source": [
    "# un code cassé\n",
    "\n",
    "!cat data/broken-await.py"
   ]
  },
  {
   "cell_type": "code",
   "execution_count": null,
   "metadata": {
    "cell_style": "split"
   },
   "outputs": [],
   "source": [
    "# la preuve\n",
    "\n",
    "!python data/broken-await.py"
   ]
  },
  {
   "cell_type": "markdown",
   "metadata": {},
   "source": [
    "Nous avons choisi de ne pas utiliser ce trait dans les notebooks, car cela pourrait créer de la confusion, mais n'hésitez pas à l'utiliser de votre côté une fois que tout ceci est bien acquis."
   ]
  },
  {
   "cell_type": "markdown",
   "metadata": {},
   "source": [
    "### À propos de Python-3.8\n",
    "\n",
    "Avec Python 3.8 - pas encore disponible à l'heure où j'écris ceci en Avril 2020 - il y a peu de changements concernant `asyncio`, ils sont décrits ici :\n",
    "\n",
    "<https://docs.python.org/3/whatsnew/3.8.html#asyncio> \n",
    "\n",
    "<span style=\"font-size: smaller\">Notez toutefois l'apparition d'une REPL (read-eval-print-loop) qui supporte justement `await` au toplevel</span>"
   ]
  },
  {
   "cell_type": "markdown",
   "metadata": {},
   "source": [
    "## Conclusion"
   ]
  },
  {
   "cell_type": "markdown",
   "metadata": {},
   "source": [
    "Pour conclure cet avertissement, ne vous formalisez pas si vous voyez dans le cours des pratiques qui sont dépassées. Les différences par rapport aux pratiques actuelles - même si on elles très visibles dans ce cours introductif - sont en réalité mineures au niveau de ce qu'il est important de comprendre quand on aborde d'un oeil neuf ce nouveau paradigme de programmation."
   ]
  }
 ],
 "metadata": {
  "ipub": {
   "sphinx": {
    "toggle_input": true,
    "toggle_input_all": true,
    "toggle_output": true,
    "toggle_output_all": true
   }
  },
  "jupytext": {
   "cell_metadata_filter": "all",
   "notebook_metadata_filter": "all,-language_info,-toc,-jupytext.text_representation.jupytext_version"
  },
  "kernelspec": {
   "display_name": "Python 3",
   "language": "python",
   "name": "python3"
  },
  "language_info": {
   "codemirror_mode": {
    "name": "ipython",
    "version": 3
   },
   "file_extension": ".py",
   "mimetype": "text/x-python",
   "name": "python",
   "nbconvert_exporter": "python",
   "pygments_lexer": "ipython3",
   "version": "3.7.3"
  },
  "livereveal": {
   "auto_select": "code",
   "auto_select_fragment": true,
   "autolaunch": false,
   "backimage": "media/nologo.png",
   "height": "100%",
   "start_slideshow_at": "selected",
   "theme": "simple",
   "transition": "fade",
   "width": "100%"
  },
  "notebookname": "asyncio et Python-3.7",
  "toc": {
   "base_numbering": 1,
   "nav_menu": {},
   "number_sections": true,
   "sideBar": true,
   "skip_h1_title": false,
   "title_cell": "Table of Contents",
   "title_sidebar": "Contents",
   "toc_cell": false,
   "toc_position": {},
   "toc_section_display": true,
   "toc_window_display": false
  },
  "version": "3.0"
 },
 "nbformat": 4,
 "nbformat_minor": 4
}
