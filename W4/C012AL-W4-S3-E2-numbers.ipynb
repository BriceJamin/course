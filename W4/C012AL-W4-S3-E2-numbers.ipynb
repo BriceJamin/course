{
 "metadata": {
  "notebookname": "Programmation fonctionelle",
  "signature": "fb83ce5784ea47428e9a039088a4888ada6a3fa444d5005e2ddfcacc40797420",
  "version": "1.0"
 },
 "nbformat": 3,
 "nbformat_minor": 0,
 "worksheets": [
  {
   "cells": [
    {
     "cell_type": "heading",
     "level": 1,
     "metadata": {},
     "source": [
      "Programmation fonctionelle"
     ]
    },
    {
     "cell_type": "heading",
     "level": 2,
     "metadata": {},
     "source": [
      "Exercice - niveau interm\u00e9diaire"
     ]
    },
    {
     "cell_type": "markdown",
     "metadata": {},
     "source": [
      "On vous demande d'\u00e9crire une fonction `numbers` qui prend en argument une liste d'entiers, et qui retourne un tuple contenant\n",
      " * la somme\n",
      " * le produit\n",
      " * le minimum\n",
      " * le maximum\n",
      "\n",
      "des \u00e9l\u00e9ments de la liste"
     ]
    },
    {
     "cell_type": "code",
     "collapsed": false,
     "input": [
      "def numbers (l):\n",
      "    \"<votre_code>\""
     ],
     "language": "python",
     "metadata": {},
     "outputs": []
    },
    {
     "cell_type": "code",
     "collapsed": false,
     "input": [
      "# pour v\u00e9rifier votre code\n",
      "from corrections.w4_numbers import correction_numbers\n",
      "correction_numbers (numbers)"
     ],
     "language": "python",
     "metadata": {},
     "outputs": []
    },
    {
     "cell_type": "heading",
     "level": 2,
     "metadata": {},
     "source": [
      "Exercice - niveau avanc\u00e9"
     ]
    },
    {
     "cell_type": "markdown",
     "metadata": {},
     "source": [
      "xxx leur faire ecrire une fonction qui prend en argument deux fonctions et une liste d'inputs et qui compare le r\u00e9sultat des 2 pour produire une liste de bool\u00e9ens\n",
      "f, g, l => l2 = [ f(x) == g(x)"
     ]
    }
   ],
   "metadata": {}
  }
 ]
}