{
 "metadata": {
  "name": "",
  "signature": "sha256:c9dd9a16112e21a18665b4ebf1ef0c140d5ed598e946463266afb87eb8aa30c9"
 },
 "nbformat": 3,
 "nbformat_minor": 0,
 "worksheets": [
  {
   "cells": [
    {
     "cell_type": "heading",
     "level": 1,
     "metadata": {},
     "source": [
      "Passage d'arguments"
     ]
    },
    {
     "cell_type": "heading",
     "level": 2,
     "metadata": {},
     "source": [
      "Exercice - niveau interm\u00e9daire"
     ]
    },
    {
     "cell_type": "markdown",
     "metadata": {},
     "source": [
      "xxx - un wrapper sur une fontion qu'on ne conna\u00eet pas du tout"
     ]
    },
    {
     "cell_type": "heading",
     "level": 2,
     "metadata": {},
     "source": [
      "Exercice - niveau avanc\u00e9"
     ]
    },
    {
     "cell_type": "heading",
     "level": 3,
     "metadata": {},
     "source": [
      "`validation` revisit\u00e9e"
     ]
    },
    {
     "cell_type": "markdown",
     "metadata": {},
     "source": [
      "Nous avons d\u00e9j\u00e0 fait un peu plus t\u00f4t cette semaine, au sujet de la programmation fonctionnelle, un exercice au sujet d'une fonction `validation` qui comparait le r\u00e9sultat de deux fonctions, toutes deux \u00e0 un argument, sur une liste de valeurs d'entr\u00e9e."
     ]
    },
    {
     "cell_type": "markdown",
     "metadata": {},
     "source": [
      "Nous reprenons ici la m\u00eame id\u00e9e, mais en levant l'hypoth\u00e8se que les deux fonctions attendent un seul argument. Il faut \u00e9crire une nouvelle version de la fonction `validation` qui prend en entr\u00e9e\n",
      " * deux fonctions `f` et `g` comme la derni\u00e8re fois,\n",
      " * mais cette fois une liste (ou un tuple) `argument_tuples` de **tuples** d'arguments d'entr\u00e9e\n",
      " \n",
      " Et comme la fois pr\u00e9c\u00e9dente on attend en retour une liste `retour` de bool\u00e9ens, de m\u00eame taille que `argument_tuples`, telle que, si `len(argument_tuples)` vaut $n$:\n",
      " \n",
      "$\\forall i \\in \\{1,..n\\}$, si `argument_tuples[i]` == [ $a_1$, .. $a_j$ ], alors\n",
      "\n",
      "`return(i) == True` $\\Longleftrightarrow$  f ($a_1$, .. $a_j$) == g ($a_1$, .. $a_j$)"
     ]
    },
    {
     "cell_type": "code",
     "collapsed": false,
     "input": [
      "def validation (f, g, argument_tuples):\n",
      "    \"<votre_code>\""
     ],
     "language": "python",
     "metadata": {},
     "outputs": [],
     "prompt_number": 4
    },
    {
     "cell_type": "code",
     "collapsed": true,
     "input": [
      "from corrections.w4_fun_args import exo_validation\n",
      "exo_validation.correction (validation)"
     ],
     "language": "python",
     "metadata": {},
     "outputs": [
      {
       "html": [
        "<table style='font-family:monospace;'><tr><th>Entr\u00e9e</th><th>Attendu</th><th>Obtenu</th><th></th></tr><tr style='background-color:#66CC66;'><td>fact, factorial, [(0,), (1,), (5,)]</td><td>[True, True, True]</td><td>[True, True, True]</td><td>OK</td><tr style='background-color:#66CC66;'><td>broken_fact, factorial, [(0,), (1,), (5,)]</td><td>[False, True, True]</td><td>[False, True, True]</td><td>OK</td><tr style='background-color:#66CC66;'><td>add, plus, [(2, 3), (0, 4), (4, 5)]</td><td>[True, True, True]</td><td>[True, True, True]</td><td>OK</td><tr style='background-color:#66CC66;'><td>add, plus_broken, [(2, 3), (0, 4), (4, 5)]</td><td>[True, False, True]</td><td>[True, False, True]</td><td>OK</td></table>"
       ],
       "metadata": {},
       "output_type": "pyout",
       "prompt_number": 5,
       "text": [
        "<IPython.core.display.HTML at 0x109f80390>"
       ]
      }
     ],
     "prompt_number": 5
    },
    {
     "cell_type": "markdown",
     "metadata": {},
     "source": [
      "Pour information:\n",
      " * `factorial` correspond \u00e0 `math.factorial`\n",
      " * `fact` et `broken_fact` sont des fonctions impl\u00e9ment\u00e9es par nos soins, la premi\u00e8re est correcte alors que la seconde retourne 0 au lieu de 1 pour l'entr\u00e9e 0.\n",
      " * `add` correspond \u00e0 l'addition binaire `operator.add`\n",
      " * `plus` et `broken_plus` sont des additions binaires \u00e9crites par nous, l'une \u00e9tant correcte et l'autre \u00e9tant fausse lorsque le premier argument est nul."
     ]
    }
   ],
   "metadata": {}
  }
 ]
}