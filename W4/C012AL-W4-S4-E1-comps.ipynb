{
 "metadata": {
  "notebookname": "Compr\u00e9hensions",
  "signature": "8051f1f0ab9c381f0a051dc04de48d759a4c842ce8fd422771f511e3ffb4df35",
  "version": "1.0"
 },
 "nbformat": 3,
 "nbformat_minor": 0,
 "worksheets": [
  {
   "cells": [
    {
     "cell_type": "heading",
     "level": 1,
     "metadata": {},
     "source": [
      "Compr\u00e9hensions"
     ]
    },
    {
     "cell_type": "heading",
     "level": 2,
     "metadata": {},
     "source": [
      "Exercice - niveau basique"
     ]
    },
    {
     "cell_type": "markdown",
     "metadata": {},
     "source": [
      "On se donne deux ensembles A et B de tuples de la forme\n",
      "\n",
      "    (entier, valeur)\n",
      "\n",
      "On vous demande d'\u00e9crire une fonction `intersect` qui retourne l'ensemble des objets `valeur` associ\u00e9s \u00e0 un entier qui soit pr\u00e9sent dans un tuple de A *et* dans un tuple de B."
     ]
    },
    {
     "cell_type": "code",
     "collapsed": false,
     "input": [
      "# un exemple\n",
      "from corrections.w4_comps import exemple_intersect\n",
      "exemple_intersect()"
     ],
     "language": "python",
     "metadata": {},
     "outputs": []
    },
    {
     "cell_type": "code",
     "collapsed": false,
     "input": [
      "def intersect (A,B):\n",
      "    \"<votre_code>\""
     ],
     "language": "python",
     "metadata": {},
     "outputs": []
    },
    {
     "cell_type": "code",
     "collapsed": false,
     "input": [
      "# pour v\u00e9rifier votre code\n",
      "from corrections.w4_comps import correction_intersect\n",
      "correction_intersect (intersect)"
     ],
     "language": "python",
     "metadata": {},
     "outputs": []
    }
   ],
   "metadata": {}
  }
 ]
}