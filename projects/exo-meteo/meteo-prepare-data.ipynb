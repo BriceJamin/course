{
 "cells": [
  {
   "cell_type": "markdown",
   "metadata": {},
   "source": [
    "<style>div.title-slide {    width: 100%;    display: flex;    flex-direction: row;            /* default value; can be omitted */    flex-wrap: nowrap;              /* default value; can be omitted */    justify-content: space-between;}</style><div class=\"title-slide\">\n<span style=\"float:left;\">Licence CC BY-NC-ND</span>\n<span></span>\n<span></span>\n</div>"
   ]
  },
  {
   "cell_type": "markdown",
   "metadata": {},
   "source": [
    "Starting point is here\n",
    "\n",
    "    curl -o cities_world.json.gz http://78.46.48.103/sample/daily_14.json.gz\n",
    "    \n",
    "And then to produce an uncompressed version\n",
    "\n",
    "    gzip -cd gzip -cd cities_world.json.gz > cities_world.json\n",
    "    "
   ]
  },
  {
   "cell_type": "code",
   "execution_count": null,
   "metadata": {
    "collapsed": false
   },
   "outputs": [],
   "source": [
    "import gzip\n",
    "import json\n",
    "\n",
    "with gzip.open(\"daily_14.json.gz\") as input:\n",
    "    cities = [ json.loads(line) for line in input]\n"
   ]
  },
  {
   "cell_type": "code",
   "execution_count": null,
   "metadata": {
    "collapsed": false
   },
   "outputs": [],
   "source": [
    "print len(cities)"
   ]
  },
  {
   "cell_type": "code",
   "execution_count": null,
   "metadata": {
    "collapsed": false
   },
   "outputs": [],
   "source": [
    "idf =    (49, 2.75, 48.5, 2)\n",
    "france = (51.2, 8.3, 42.3, -5.3)\n",
    "europe = (62, 33, 34, -11)"
   ]
  },
  {
   "cell_type": "code",
   "execution_count": null,
   "metadata": {
    "collapsed": false
   },
   "outputs": [],
   "source": [
    "# au cas ou\n",
    "reload(meteodata)"
   ]
  },
  {
   "cell_type": "code",
   "execution_count": null,
   "metadata": {
    "collapsed": false
   },
   "outputs": [],
   "source": [
    "import meteodata"
   ]
  },
  {
   "cell_type": "code",
   "execution_count": null,
   "metadata": {
    "collapsed": false
   },
   "outputs": [],
   "source": [
    "def save_area (name, coords):\n",
    "    area = meteodata.RectangleArea(*coords)\n",
    "    area_cities = [ city for city in cities if area.covers_city(city) ]\n",
    "    with open(\"cities_{}.json\".format(name), 'w') as output:\n",
    "        for city in area_cities:\n",
    "            output.write(json.dumps(city)+\"\\n\")"
   ]
  },
  {
   "cell_type": "code",
   "execution_count": null,
   "metadata": {
    "collapsed": false
   },
   "outputs": [],
   "source": [
    "save_area ('idf', idf)\n",
    "save_area ('france', france)\n",
    "save_area ('europe', europe)"
   ]
  },
  {
   "cell_type": "code",
   "execution_count": null,
   "metadata": {
    "collapsed": false
   },
   "outputs": [],
   "source": [
    "city=cities[0]\n",
    "measures=city['data']\n",
    "print len(measures),'measures'\n",
    "from pprint import pprint\n",
    "pprint (measures[0])"
   ]
  },
  {
   "cell_type": "code",
   "execution_count": null,
   "metadata": {
    "collapsed": false
   },
   "outputs": [],
   "source": [
    "import time\n",
    "for measure in measures: \n",
    "    print time.strftime(\"%D-%T\",time.gmtime(measure[u'dt']))"
   ]
  },
  {
   "cell_type": "code",
   "execution_count": null,
   "metadata": {
    "collapsed": false
   },
   "outputs": [],
   "source": [
    "time.gmtime(measure[u'dt'])"
   ]
  },
  {
   "cell_type": "code",
   "execution_count": null,
   "metadata": {
    "collapsed": false
   },
   "outputs": [],
   "source": [
    "len(cities)"
   ]
  },
  {
   "cell_type": "code",
   "execution_count": null,
   "metadata": {
    "collapsed": false
   },
   "outputs": [],
   "source": [
    "len({x['city']['name'] for x in cities})"
   ]
  },
  {
   "cell_type": "markdown",
   "metadata": {},
   "source": [
    "Epilogue\n",
    "\n",
    " * produced the compressed versions manually with gzip\n",
    " * moved over all cities*json* files in ../data\n",
    " * git added"
   ]
  },
  {
   "cell_type": "code",
   "execution_count": null,
   "metadata": {
    "collapsed": false
   },
   "outputs": [],
   "source": [
    "# average number of measures per city\n",
    "float(sum ( [ len(city['data']) for city in cities]))/len(cities)"
   ]
  },
  {
   "cell_type": "markdown",
   "metadata": {},
   "source": [
    "`meteodata.py -2  data/cities_europe.json`"
   ]
  }
 ],
 "metadata": {
  "kernelspec": {
   "display_name": "Python 2",
   "language": "python",
   "name": "python2"
  },
  "notebookname": "NO HEADING 1 found",
  "version": "1.0"
 },
 "nbformat": 4,
 "nbformat_minor": 0
}