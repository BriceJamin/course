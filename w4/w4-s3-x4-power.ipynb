{
 "cells": [
  {
   "cell_type": "markdown",
   "metadata": {},
   "source": [
    "<div class=\"licence\">\n",
    "<span>Licence CC BY-NC-ND</span>\n",
    "<span>Thierry Parmentelat &amp; Arnaud Legout</span>\n",
    "<span><img src=\"media/both-logos-small-alpha.png\" /></span>\n",
    "</div>"
   ]
  },
  {
   "cell_type": "markdown",
   "metadata": {},
   "source": [
    "# Mise à la puissance"
   ]
  },
  {
   "cell_type": "code",
   "execution_count": 1,
   "metadata": {},
   "outputs": [],
   "source": [
    "%load_ext autoreload\n",
    "%autoreload 2\n"
   ]
  },
  {
   "cell_type": "markdown",
   "metadata": {},
   "source": [
    "## Exercice - niveau basique"
   ]
  },
  {
   "cell_type": "code",
   "execution_count": 2,
   "metadata": {},
   "outputs": [],
   "source": [
    "# chargement de l'exercice\n",
    "from corrections.exo_power import exo_power"
   ]
  },
  {
   "cell_type": "markdown",
   "metadata": {},
   "source": [
    "On vous demande d'écrire une fonction qui met un objet x à la puissance entière n.\n",
    "\n",
    "Le paramètre `x` doit pouvoir être multiplié par lui même, et le paramètre `n` est un entier `>=1` (pas la peine de vérifier)."
   ]
  },
  {
   "cell_type": "markdown",
   "metadata": {},
   "source": [
    "Naturellement on s'interdit d'utiliser l'opérateur prédéfini `**`; notamment notre algorithme doit pouvoir s'appliquer à tous les types d'objet qui supportent la multiplication.\n",
    "\n",
    "Pour optimiser les calculs, on va utiliser un algorithme qui permet d'effectuer un nombre de multiplications en $O(log_2(n))$. \n",
    "\n",
    "Pour cela remarquez par exemple que :\n",
    "\n",
    "* si n = 21, c'est-à-dire en base 2 `010101`, alors\n",
    "\n",
    "$ n = 2 * 2 * (2*2 + 1) + 1 $  \n",
    "\n",
    "$ x^{21} = (((x.x)^2*x)^2)^2 . x $\n",
    "\n",
    "* si n = 42, c'est-à-dire en base 2 `101010`, alors\n",
    "\n",
    "$ n = 2 * (2 * 2 * (2*2 + 1) + 1) $  \n",
    "\n",
    "$ x^{42} = ((((x.x)^2*x)^2)^2 . x)^2$\n",
    "\n",
    "\n",
    "Le fait de mettre un nombre au carré nécessite seulement une multiplication ;  \n",
    "ce qui signifie que la décomposition de n en binaire donne une formule pour $x^n$ qui met en jeu de l'ordre de $2*log_2{n}$ multiplications."
   ]
  },
  {
   "cell_type": "code",
   "execution_count": 3,
   "metadata": {},
   "outputs": [
    {
     "data": {
      "text/html": [
       "<table style='font-family:monospace;font-size:small;'><tr style='font-family:monospace;font-size:medium;'><th style='text-align: center;'><pre>Appel</pre></th><th style='text-align: center;'><pre>Resultat Attendu</pre></th></tr><tr><td><pre>power(2, 1)</pre></td><td style='text-align: left;border-left:3px solid gray;'><pre>\n",
       "2</pre></td></tr><tr><td><pre>power(2, 10)</pre></td><td style='text-align: left;border-left:3px solid gray;'><pre>\n",
       "1024</pre></td></tr><tr><td><pre>power(1j, 4)</pre></td><td style='text-align: left;border-left:3px solid gray;'><pre>\n",
       "(1-0j)</pre></td></tr><tr><td><pre>power(number <1j>, 4)</pre></td><td style='text-align: left;border-left:3px solid gray;'><pre>\n",
       "number <(1-0j)></pre></td></tr></table>"
      ],
      "text/plain": [
       "<IPython.core.display.HTML object>"
      ]
     },
     "execution_count": 3,
     "metadata": {},
     "output_type": "execute_result"
    }
   ],
   "source": [
    "exo_power.example()"
   ]
  },
  {
   "cell_type": "markdown",
   "metadata": {},
   "source": [
    "**Indice**\n",
    "\n",
    "On peut être tenté d'écrire une boucle `while` sur la variable $n$, mais pour commencer une formulation récursive - sans recourir à un `while` - est une approche semble plus commode à implémenter\n",
    "\n",
    "**\n"
   ]
  },
  {
   "cell_type": "code",
   "execution_count": 4,
   "metadata": {},
   "outputs": [],
   "source": [
    "# à vous de jouer\n",
    "def power(x, n):\n",
    "    \"<votre code>\""
   ]
  },
  {
   "cell_type": "code",
   "execution_count": 5,
   "metadata": {},
   "outputs": [],
   "source": [
    "# à vous de jouer\n",
    "from corrections.exo_power import power"
   ]
  },
  {
   "cell_type": "code",
   "execution_count": 6,
   "metadata": {
    "scrolled": true
   },
   "outputs": [
    {
     "data": {
      "text/html": [
       "<table style='font-family:monospace;font-size:small;'><tr style='font-family:monospace;font-size:medium;'><th style='text-align: center;'><pre>Appel</pre></th><th style='text-align: center;'><pre>Attendu</pre></th><th style='text-align: center;'><pre>Obtenu</pre></th><th style='text-align: center;'><pre></pre></th></tr><tr style='background-color:#d6e9ce;border-bottom:2px solid gray;'><td><pre>power(2, 1)</pre></td><td style='text-align: left;border-left:3px solid gray;'><pre>\n",
       "2</pre></td><td style='text-align: left;border-left:1px solid gray;'><pre>\n",
       "2</pre></td><td style='border-left:3px solid gray;'><pre>OK</pre></td></tr><tr style='background-color:#d6e9ce;border-bottom:2px solid gray;'><td><pre>power(2, 10)</pre></td><td style='text-align: left;border-left:3px solid gray;'><pre>\n",
       "1024</pre></td><td style='text-align: left;border-left:1px solid gray;'><pre>\n",
       "1024</pre></td><td style='border-left:3px solid gray;'><pre>OK</pre></td></tr><tr style='background-color:#d6e9ce;border-bottom:2px solid gray;'><td><pre>power(1j, 4)</pre></td><td style='text-align: left;border-left:3px solid gray;'><pre>\n",
       "(1-0j)</pre></td><td style='text-align: left;border-left:1px solid gray;'><pre>\n",
       "(1-0j)</pre></td><td style='border-left:3px solid gray;'><pre>OK</pre></td></tr><tr style='background-color:#d6e9ce;border-bottom:2px solid gray;'><td><pre>power(number <1j>, 4)</pre></td><td style='text-align: left;border-left:3px solid gray;'><pre>\n",
       "number <(1-0j)></pre></td><td style='text-align: left;border-left:1px solid gray;'><pre>\n",
       "number <(1-0j)></pre></td><td style='border-left:3px solid gray;'><pre>OK</pre></td></tr><tr style='background-color:#d6e9ce;border-bottom:2px solid gray;'><td><pre>power(3, 2)</pre></td><td style='text-align: left;border-left:3px solid gray;'><pre>\n",
       "9</pre></td><td style='text-align: left;border-left:1px solid gray;'><pre>\n",
       "9</pre></td><td style='border-left:3px solid gray;'><pre>OK</pre></td></tr><tr style='background-color:#d6e9ce;border-bottom:2px solid gray;'><td><pre>power(3, 3)</pre></td><td style='text-align: left;border-left:3px solid gray;'><pre>\n",
       "27</pre></td><td style='text-align: left;border-left:1px solid gray;'><pre>\n",
       "27</pre></td><td style='border-left:3px solid gray;'><pre>OK</pre></td></tr><tr style='background-color:#d6e9ce;border-bottom:2px solid gray;'><td><pre>power(3, 1024)</pre></td><td style='text-align: left;border-left:3px solid gray;'><pre>\n",
       "373391848741020043532959754184866588225409776783734007750636931722079040617265251229993688938803977220468765065431475158108727054592160858581351336982809187314191748594262580938807019951956404285571818041046681288797402925517668012340617298396574731619152386723046235125934896058590588284654793540505936202376547807442730582144527058988756251452817793413352141920744623027518729185432862375737063985485319476416926263819972887006907013899256524297198527698749274196276811060702333710356481</pre></td><td style='text-align: left;border-left:1px solid gray;'><pre>\n",
       "373391848741020043532959754184866588225409776783734007750636931722079040617265251229993688938803977220468765065431475158108727054592160858581351336982809187314191748594262580938807019951956404285571818041046681288797402925517668012340617298396574731619152386723046235125934896058590588284654793540505936202376547807442730582144527058988756251452817793413352141920744623027518729185432862375737063985485319476416926263819972887006907013899256524297198527698749274196276811060702333710356481</pre></td><td style='border-left:3px solid gray;'><pre>OK</pre></td></tr><tr style='background-color:#d6e9ce;border-bottom:2px solid gray;'><td><pre>power(3, 1025)</pre></td><td style='text-align: left;border-left:3px solid gray;'><pre>\n",
       "1120175546223060130598879262554599764676229330351202023251910795166237121851795753689981066816411931661406295196294425474326181163776482575744054010948427561942575245782787742816421059855869212856715454123140043866392208776553004037021851895189724194857457160169138705377804688175771764853964380621517808607129643422328191746433581176966268754358453380240056425762233869082556187556298587127211191956455958429250778791459918661020721041697769572891595583096247822588830433182107001131069443</pre></td><td style='text-align: left;border-left:1px solid gray;'><pre>\n",
       "1120175546223060130598879262554599764676229330351202023251910795166237121851795753689981066816411931661406295196294425474326181163776482575744054010948427561942575245782787742816421059855869212856715454123140043866392208776553004037021851895189724194857457160169138705377804688175771764853964380621517808607129643422328191746433581176966268754358453380240056425762233869082556187556298587127211191956455958429250778791459918661020721041697769572891595583096247822588830433182107001131069443</pre></td><td style='border-left:3px solid gray;'><pre>OK</pre></td></tr><tr style='background-color:#d6e9ce;border-bottom:2px solid gray;'><td><pre>power(1j, 256)</pre></td><td style='text-align: left;border-left:3px solid gray;'><pre>\n",
       "(1-0j)</pre></td><td style='text-align: left;border-left:1px solid gray;'><pre>\n",
       "(1-0j)</pre></td><td style='border-left:3px solid gray;'><pre>OK</pre></td></tr><tr style='background-color:#d6e9ce;border-bottom:2px solid gray;'><td><pre><pre>power(\n",
       "  1j,\n",
       "  340282366920938463463374607431768211457)\n",
       "</pre></pre></td><td style='text-align: left;border-left:3px solid gray;'><pre>\n",
       "1j</pre></td><td style='text-align: left;border-left:1px solid gray;'><pre>\n",
       "1j</pre></td><td style='border-left:3px solid gray;'><pre>OK</pre></td></tr><tr style='background-color:#d6e9ce;border-bottom:2px solid gray;'><td><pre>power(1j, 255)</pre></td><td style='text-align: left;border-left:3px solid gray;'><pre>\n",
       "(-0-1j)</pre></td><td style='text-align: left;border-left:1px solid gray;'><pre>\n",
       "(-0-1j)</pre></td><td style='border-left:3px solid gray;'><pre>OK</pre></td></tr></table>"
      ],
      "text/plain": [
       "<IPython.core.display.HTML object>"
      ]
     },
     "execution_count": 6,
     "metadata": {},
     "output_type": "execute_result"
    }
   ],
   "source": [
    "# pour vérifier votre code\n",
    "exo_power.correction(power)"
   ]
  }
 ],
 "metadata": {
  "kernelspec": {
   "display_name": "Python 3",
   "language": "python",
   "name": "python3"
  },
  "language_info": {
   "codemirror_mode": {
    "name": "ipython",
    "version": 3
   },
   "file_extension": ".py",
   "mimetype": "text/x-python",
   "name": "python",
   "nbconvert_exporter": "python",
   "pygments_lexer": "ipython3",
   "version": "3.7.3"
  },
  "livereveal": {
   "auto_select": "code",
   "auto_select_fragment": true,
   "autolaunch": false,
   "backimage": "media/nologo.png",
   "height": "100%",
   "slideNumber": "c",
   "start_slideshow_at": "selected",
   "theme": "simple",
   "transition": "fade",
   "width": "100%"
  },
  "notebookname": "PGCD",
  "version": "3.0"
 },
 "nbformat": 4,
 "nbformat_minor": 1
}
