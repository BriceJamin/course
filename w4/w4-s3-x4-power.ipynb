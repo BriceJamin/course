{
 "cells": [
  {
   "cell_type": "markdown",
   "metadata": {},
   "source": [
    "<div class=\"licence\">\n",
    "<span>Licence CC BY-NC-ND</span>\n",
    "<span>Thierry Parmentelat &amp; Arnaud Legout</span>\n",
    "<span><img src=\"media/both-logos-small-alpha.png\" /></span>\n",
    "</div>"
   ]
  },
  {
   "cell_type": "markdown",
   "metadata": {},
   "source": [
    "# Mise à la puissance"
   ]
  },
  {
   "cell_type": "markdown",
   "metadata": {},
   "source": [
    "## Exercice - niveau basique"
   ]
  },
  {
   "cell_type": "code",
   "execution_count": null,
   "metadata": {},
   "outputs": [],
   "source": [
    "# chargement de l'exercice\n",
    "from corrections.exo_power import exo_power"
   ]
  },
  {
   "cell_type": "markdown",
   "metadata": {},
   "source": [
    "On vous demande d'écrire une fonction qui met un objet x à la puissance entière n.\n",
    "\n",
    "Le paramètre `x` doit pouvoir être multiplié par lui même, et le paramètre `n` est un entier `>=1` (pas la peine de vérifier)."
   ]
  },
  {
   "cell_type": "markdown",
   "metadata": {},
   "source": [
    "Naturellement on s'interdit d'utiliser l'opérateur prédéfini `**`; notamment notre algorithme doit pouvoir s'appliquer à tous les types d'objet qui supportent la multiplication.\n",
    "\n",
    "Pour optimiser les calculs, on va utiliser un algorithme qui permet d'effectuer un nombre de multiplications en $O(log_2(n))$. \n",
    "\n",
    "Pour cela remarquez par exemple que le fait de mettre un nombre au carré nécessite seulement une multiplication ;  \n",
    "\n",
    "Ce qui signifie que la décomposition de n en binaire donne une formule pour $x^n$ qui met en jeu de l'ordre de $2*log_2{n}$ multiplications.\n",
    "\n",
    "Ainsi par exemple :\n",
    "\n",
    "* si n = 21, c'est-à-dire en base 2 `010101`, alors\n",
    "\n",
    "$ n = 2 * 2 * (2*2 + 1) + 1 $  \n",
    "\n",
    "$ x^{21} = (((x.x)^2*x)^2)^2 . x $ soit 6 multiplications\n",
    "\n",
    "\n",
    "* si n = 42, c'est-à-dire en base 2 `101010`, alors\n",
    "\n",
    "$ n = 2 * (2 * 2 * (2*2 + 1) + 1) $  \n",
    "\n",
    "$ x^{42} = ((((x.x)^2*x)^2)^2 . x)^2$ soit 7 multiplications"
   ]
  },
  {
   "cell_type": "code",
   "execution_count": null,
   "metadata": {},
   "outputs": [],
   "source": [
    "exo_power.example()"
   ]
  },
  {
   "cell_type": "markdown",
   "metadata": {},
   "source": [
    "**Commentaires**\n",
    "\n",
    "* on rappelle que `1j` désigne le nombre complexe $i$ ;\n",
    "* le jeu de données de test contient des objets (la classe `number`) pour lesquels l'opérateur `**` ne fonctionne pas ;\n",
    "* le système de correction automatique n'est pas en mesure de vérifier la complexité de votre algorithme, mais sachez que les données de test mettent en jeu des exposants jusqu'à $2^{128}$ ;\n",
    "\n",
    "**Indice**\n",
    "\n",
    "* on peut être tenté d'écrire une boucle `while` sur la variable $n$, mais pour commencer une formulation récursive est une approche qui peut sembler beaucoup plus commode à implémenter."
   ]
  },
  {
   "cell_type": "code",
   "execution_count": null,
   "metadata": {},
   "outputs": [],
   "source": [
    "# à vous de jouer\n",
    "def power(x, n):\n",
    "    \"<votre code>\""
   ]
  },
  {
   "cell_type": "code",
   "execution_count": null,
   "metadata": {},
   "outputs": [],
   "source": [
    "# à vous de jouer\n",
    "from corrections.exo_power import power"
   ]
  },
  {
   "cell_type": "code",
   "execution_count": null,
   "metadata": {
    "scrolled": true
   },
   "outputs": [],
   "source": [
    "# pour vérifier votre code\n",
    "exo_power.correction(power)"
   ]
  }
 ],
 "metadata": {
  "kernelspec": {
   "display_name": "Python 3",
   "language": "python",
   "name": "python3"
  },
  "language_info": {
   "codemirror_mode": {
    "name": "ipython",
    "version": 3
   },
   "file_extension": ".py",
   "mimetype": "text/x-python",
   "name": "python",
   "nbconvert_exporter": "python",
   "pygments_lexer": "ipython3",
   "version": "3.7.3"
  },
  "livereveal": {
   "auto_select": "code",
   "auto_select_fragment": true,
   "autolaunch": false,
   "backimage": "media/nologo.png",
   "height": "100%",
   "slideNumber": "c",
   "start_slideshow_at": "selected",
   "theme": "simple",
   "transition": "fade",
   "width": "100%"
  },
  "notebookname": "Puissance entière",
  "version": "3.0"
 },
 "nbformat": 4,
 "nbformat_minor": 1
}
