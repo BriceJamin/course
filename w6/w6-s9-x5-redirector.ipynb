{
 "cells": [
  {
   "cell_type": "markdown",
   "metadata": {},
   "source": [
    "<div class=\"licence\">\n",
    "<span>Licence CC BY-NC-ND</span>\n",
    "<span>Thierry Parmentelat &amp; Arnaud Legout</span>\n",
    "<span><img src=\"media/both-logos-small-alpha.png\" /></span>\n",
    "</div>"
   ]
  },
  {
   "cell_type": "markdown",
   "metadata": {},
   "source": [
    "## Exercice - niveau intermédiaire"
   ]
  },
  {
   "cell_type": "markdown",
   "metadata": {},
   "source": [
    "On se propose d'écrire une classe de redirection ; \n",
    "typiquement, une instance de cette classe est capable de résoudre **n'importe quel attribut** car son travail est de sous-traiter le travail à quelqu'un d'autre.\n",
    "\n",
    "L'exercice vient en deux versions ; dans la première on considère seulement des attributs de données, dans la seconde, un attribut inconnu se comporte comme une méthode."
   ]
  },
  {
   "cell_type": "markdown",
   "metadata": {},
   "source": [
    "### Première version : attributs de donnée"
   ]
  },
  {
   "cell_type": "markdown",
   "metadata": {},
   "source": [
    "Dans cette premiere version, on veut créer une instance à partir de laquelle on peut accéder à n'importe quel attribut dont le nom est un nom de variable légal en Python.\n",
    "\n",
    "Et la valeur de l'attribut est dérivé de son nom en :\n",
    "\n",
    "* le mettant en minuscules, et \n",
    "* en remplaçant les éventuels `_` par un signe `-`"
   ]
  },
  {
   "cell_type": "code",
   "execution_count": null,
   "metadata": {},
   "outputs": [],
   "source": [
    "from corrections.cls_redirectors import exo_redirector1\n",
    "exo_redirector1.example()"
   ]
  },
  {
   "cell_type": "code",
   "execution_count": null,
   "metadata": {},
   "outputs": [],
   "source": [
    "# votre code pour la classe Redirector1\n",
    "class Redirector1:\n",
    "\n",
    "    def __repr__(self):\n",
    "        return \"redirector\"\n",
    "\n",
    "    ..."
   ]
  },
  {
   "cell_type": "code",
   "execution_count": null,
   "metadata": {},
   "outputs": [],
   "source": [
    "# pour la corriger\n",
    "# \n",
    "exo_redirector1.correction(Redirector1)"
   ]
  },
  {
   "cell_type": "markdown",
   "metadata": {},
   "source": [
    "## Exercice - niveau avancé"
   ]
  },
  {
   "cell_type": "markdown",
   "metadata": {},
   "source": [
    "### deuxième version : méthodes"
   ]
  },
  {
   "cell_type": "markdown",
   "metadata": {},
   "source": [
    "Cette fois-ci on considère qu'un attribut manquant est une méthode ; pour fixer les idées on décide que :\n",
    "\n",
    "* ces méthodes prennent toutes **un seul argument** - en sus de l'objet qui les reçoit ;\n",
    "* chacune de ces méthodes retourne une simple chaîne,\n",
    "  qui contient des morceaux provenant de :\n",
    "\n",
    "  * l'object redirecteur lui-même,\n",
    "  * le nom de la méthode,\n",
    "  * l'argument passé à la méthode, qui donc est unique.\n",
    "\n",
    "Ce mécanisme est illustré sur les exemples suivants, avec deux méthodes `foo` et `bar` ; par contre le test automatique exercera votre code avec des noms de méthodes aléatoires."
   ]
  },
  {
   "cell_type": "code",
   "execution_count": null,
   "metadata": {},
   "outputs": [],
   "source": [
    "from corrections.cls_redirectors import exo_redirector2\n",
    "exo_redirector2.example()"
   ]
  },
  {
   "cell_type": "code",
   "execution_count": null,
   "metadata": {},
   "outputs": [],
   "source": [
    "# à vous de jouer\n",
    "class Redirector2:\n",
    "    def __init__(self, id):\n",
    "        self.id = id\n",
    "    def __repr__(self):\n",
    "        return f\"Redirector2({self.id})\""
   ]
  },
  {
   "cell_type": "code",
   "execution_count": null,
   "metadata": {},
   "outputs": [],
   "source": [
    "# pour corriger\n",
    "exo_redirector2.correction(Redirector2)"
   ]
  },
  {
   "cell_type": "markdown",
   "metadata": {},
   "source": [
    "## application\n",
    "\n",
    "\n",
    "Un exemple en vraie grandeur de ce type de mécanisme est proposé dans la librairie standard Python :\n",
    "https://docs.python.org/3/library/xmlrpc.client.html#serverproxy-objects.\n",
    "\n",
    "Typiquement la classe générique `ServerProxy` ressemble à notre deuxième version de l'exercice, en ce sens qu'elle n'a aucune connaissance de l'API distante à laquelle elle est connectée ; autrement dit l'ensemble des méthodes effectivement proposées par la classe `ServerProxy` est totalement inconnu au moment où on écrit le code de cette classe."
   ]
  }
 ],
 "metadata": {
  "jupytext": {
   "cell_metadata_filter": "all",
   "notebook_metadata_filter": "all,-language_info",
   "text_representation": {
    "extension": ".py",
    "format_name": "percent",
    "format_version": "1.2",
    "jupytext_version": "1.2.4"
   }
  },
  "kernelspec": {
   "display_name": "Python 3",
   "language": "python",
   "name": "python3"
  },
  "language_info": {
   "codemirror_mode": {
    "name": "ipython",
    "version": 3
   },
   "file_extension": ".py",
   "mimetype": "text/x-python",
   "name": "python",
   "nbconvert_exporter": "python",
   "pygments_lexer": "ipython3",
   "version": "3.7.3"
  },
  "notebookname": "exercice - niveau avancé",
  "version": "3.0"
 },
 "nbformat": 4,
 "nbformat_minor": 4
}
