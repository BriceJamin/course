{
 "cells": [
  {
   "cell_type": "markdown",
   "metadata": {},
   "source": [
    "<div class=\"licence\">\n",
    "<span>Licence CC BY-NC-ND</span>\n",
    "<span>Thierry Parmentelat &amp; Arnaud Legout</span>\n",
    "<span><img src=\"media/both-logos-small-alpha.png\" /></span>\n",
    "</div>"
   ]
  },
  {
   "cell_type": "markdown",
   "metadata": {},
   "source": [
    "# exercice - niveau avancé"
   ]
  },
  {
   "cell_type": "markdown",
   "metadata": {},
   "source": [
    "## itérateurs et générateurs\n",
    "\n",
    "Tous les exercices de ce notebook vous demandent d'écrire des fonctions qui construisent des itérateurs."
   ]
  },
  {
   "cell_type": "code",
   "execution_count": 33,
   "metadata": {},
   "outputs": [],
   "source": [
    "import itertools"
   ]
  },
  {
   "cell_type": "markdown",
   "metadata": {},
   "source": [
    "## 1. nombres premiers"
   ]
  },
  {
   "cell_type": "markdown",
   "metadata": {},
   "source": [
    "On vous demande d'écrire un générateur qui énumère les nombres premiers."
   ]
  },
  {
   "cell_type": "code",
   "execution_count": 34,
   "metadata": {},
   "outputs": [
    {
     "data": {
      "text/html": [
       "<table style='font-family:monospace;font-size:small;'><tr style='font-family:monospace;font-size:medium;'><th style='text-align: center;'><pre>Appel</pre></th><th style='text-align: center;'><pre>Resultat Attendu</pre></th></tr><tr><td><pre><pre>\n",
       "primes()\n",
       "iters → 20\n",
       "</pre></pre></td><td style='text-align: left;border-left:3px solid gray;'><pre>\n",
       "[ 2,\n",
       "  3,\n",
       "  5,\n",
       "  7,\n",
       "  11,\n",
       "  13,\n",
       "  17,\n",
       "  19,\n",
       "  23,\n",
       "  29,\n",
       "  31,\n",
       "  37,\n",
       "  41,\n",
       "  43,\n",
       "  47,\n",
       "  53,\n",
       "  59,\n",
       "  61,\n",
       "  67,\n",
       "  71]</pre></td></tr><tr><td><pre><pre>\n",
       "primes()\n",
       "iters 1 → 6 / 2\n",
       "</pre></pre></td><td style='text-align: left;border-left:3px solid gray;'><pre>\n",
       "[3, 7, 13]</pre></td></tr><tr><td><pre><pre>\n",
       "primes()\n",
       "iters 10 → 20 / 2\n",
       "</pre></pre></td><td style='text-align: left;border-left:3px solid gray;'><pre>\n",
       "[31, 41, 47, 59, 67]</pre></td></tr><tr><td><pre><pre>\n",
       "primes()\n",
       "iters 98 → 101\n",
       "</pre></pre></td><td style='text-align: left;border-left:3px solid gray;'><pre>\n",
       "[523, 541, 547]</pre></td></tr></table>"
      ],
      "text/plain": [
       "<IPython.core.display.HTML object>"
      ]
     },
     "execution_count": 34,
     "metadata": {},
     "output_type": "execute_result"
    }
   ],
   "source": [
    "from corrections.gen_primes import exo_primes\n",
    "exo_primes.example()"
   ]
  },
  {
   "cell_type": "markdown",
   "metadata": {},
   "source": [
    "Le générateur ne s'arrête donc jamais, c'est un générateur infini comme `itertools.count()`. \n",
    "Le système de correction automatique est capable d'extraire certaines parties du flux du générateur, avec une convention voisine de `range()` et/ou du *slicing*.\n",
    "\n",
    "Ainsi par exemple le deuxième jeu de test, sous-titré `1 → 5 / 2`, va retenir les éléments énumérés par le générateur aux itérations *1, 3 et 5* - en commençant bien sûr à compter à 0."
   ]
  },
  {
   "cell_type": "markdown",
   "metadata": {},
   "source": [
    "**NOTES**\n",
    "\n",
    "* évidemment, il vous faut retourner un itérateur, et la correction automatique vérifiera ce point\n",
    "* notez aussi que, lorsqu'on cherche à déterminer si $n$ est entier, on a nécessairement déjà fait ce travail sur tous les entiers plus petits que $n$, il est donc tentant, et fortement recommandé, de profiter de cette information pour accélérer l'algorithme\n",
    "* si votre algorithme est très lent ou faux, vous pouvez *perdre* le *kernel* (en français noyau), c'est-à-dire qu'il calcule pendant très longtemps (ou pour toujours); dans ces cas-là, la marge gauche indique `In [*]:` et l'étoile n'est jamais remplacée par un chiffre  \n",
    "  il vous **faut alors interrompre** votre kernel; pour cela utilisez le menu *Kernel* qui a des options pour interrompre ou redémarrer le kernel courant; les raccourcis clavier `i i` et `0 0` permettent aussi d'interrompre et redémarrer le noyau"
   ]
  },
  {
   "cell_type": "code",
   "execution_count": 35,
   "metadata": {},
   "outputs": [],
   "source": [
    "# à vous de jouer\n",
    "\n",
    "def primes():\n",
    "    # vous DEVEZ retourner un itérateur\n",
    "    # bien sûr count() n'est pas une bonne réponse...\n",
    "    return itertools.count()"
   ]
  },
  {
   "cell_type": "code",
   "execution_count": 36,
   "metadata": {},
   "outputs": [
    {
     "data": {
      "text/html": [
       "<table style='font-family:monospace;font-size:small;'><tr style='font-family:monospace;font-size:medium;'><th style='text-align: center;'><pre>Appel</pre></th><th style='text-align: center;'><pre>Attendu</pre></th><th style='text-align: center;'><pre>Obtenu</pre></th><th style='text-align: center;'><pre></pre></th></tr><tr style='background-color:#efd6d6;border-bottom:2px solid gray;'><td><pre><pre>\n",
       "primes()\n",
       "iters → 20\n",
       "</pre></pre></td><td style='text-align: left;border-left:3px solid gray;'><pre>\n",
       "[ 2,\n",
       "  3,\n",
       "  5,\n",
       "  7,\n",
       "  11,\n",
       "  13,\n",
       "  17,\n",
       "  19,\n",
       "  23,\n",
       "  29,\n",
       "  31,\n",
       "  37,\n",
       "  41,\n",
       "  43,\n",
       "  47,\n",
       "  53,\n",
       "  59,\n",
       "  61,\n",
       "  67,\n",
       "  71]</pre></td><td style='text-align: left;border-left:1px solid gray;'><pre>\n",
       "[ 0,\n",
       "  1,\n",
       "  2,\n",
       "  3,\n",
       "  4,\n",
       "  5,\n",
       "  6,\n",
       "  7,\n",
       "  8,\n",
       "  9,\n",
       "  10,\n",
       "  11,\n",
       "  12,\n",
       "  13,\n",
       "  14,\n",
       "  15,\n",
       "  16,\n",
       "  17,\n",
       "  18,\n",
       "  19]</pre></td><td style='border-left:3px solid gray;'><pre>KO</pre></td></tr><tr style='background-color:#efd6d6;border-bottom:2px solid gray;'><td><pre><pre>\n",
       "primes()\n",
       "iters 1 → 6 / 2\n",
       "</pre></pre></td><td style='text-align: left;border-left:3px solid gray;'><pre>\n",
       "[3, 7, 13]</pre></td><td style='text-align: left;border-left:1px solid gray;'><pre>\n",
       "[1, 3, 5]</pre></td><td style='border-left:3px solid gray;'><pre>KO</pre></td></tr><tr style='background-color:#efd6d6;border-bottom:2px solid gray;'><td><pre><pre>\n",
       "primes()\n",
       "iters 10 → 20 / 2\n",
       "</pre></pre></td><td style='text-align: left;border-left:3px solid gray;'><pre>\n",
       "[31, 41, 47, 59, 67]</pre></td><td style='text-align: left;border-left:1px solid gray;'><pre>\n",
       "[10, 12, 14, 16, 18]</pre></td><td style='border-left:3px solid gray;'><pre>KO</pre></td></tr><tr style='background-color:#efd6d6;border-bottom:2px solid gray;'><td><pre><pre>\n",
       "primes()\n",
       "iters 98 → 101\n",
       "</pre></pre></td><td style='text-align: left;border-left:3px solid gray;'><pre>\n",
       "[523, 541, 547]</pre></td><td style='text-align: left;border-left:1px solid gray;'><pre>\n",
       "[98, 99, 100]</pre></td><td style='border-left:3px solid gray;'><pre>KO</pre></td></tr></table>"
      ],
      "text/plain": [
       "<IPython.core.display.HTML object>"
      ]
     },
     "execution_count": 36,
     "metadata": {},
     "output_type": "execute_result"
    }
   ],
   "source": [
    "# pour corriger votre code\n",
    "exo_primes.correction(primes)"
   ]
  },
  {
   "cell_type": "markdown",
   "metadata": {},
   "source": [
    "##### zone de debug"
   ]
  },
  {
   "cell_type": "code",
   "execution_count": 37,
   "metadata": {},
   "outputs": [
    {
     "name": "stdout",
     "output_type": "stream",
     "text": [
      "0 -> 0\n",
      "1 -> 1\n",
      "2 -> 2\n",
      "3 -> 3\n",
      "4 -> 4\n",
      "5 -> 5\n",
      "6 -> 6\n",
      "7 -> 7\n",
      "8 -> 8\n",
      "9 -> 9\n"
     ]
    }
   ],
   "source": [
    "# à toutes fins utiles\n",
    "\n",
    "MAX = 10\n",
    "\n",
    "iterator = primes()\n",
    "\n",
    "for index, prime in enumerate(itertools.islice(iterator, MAX)):\n",
    "    print(f\"{index} -> {prime}\")"
   ]
  },
  {
   "cell_type": "markdown",
   "metadata": {},
   "source": [
    "***\n",
    "***\n",
    "***"
   ]
  },
  {
   "cell_type": "markdown",
   "metadata": {},
   "source": [
    "## 2. les carrés des nombres premiers"
   ]
  },
  {
   "cell_type": "markdown",
   "metadata": {},
   "source": [
    "On veut à présent énumérer les carrés des nombres premiers\n",
    "\n",
    "**NOTE** il y a au moins deux façons triviales de parvenir au résultat."
   ]
  },
  {
   "cell_type": "code",
   "execution_count": 38,
   "metadata": {},
   "outputs": [
    {
     "data": {
      "text/html": [
       "<table style='font-family:monospace;font-size:small;'><tr style='font-family:monospace;font-size:medium;'><th style='text-align: center;'><pre>Appel</pre></th><th style='text-align: center;'><pre>Resultat Attendu</pre></th></tr><tr><td><pre><pre>\n",
       "prime_squares()\n",
       "iters → 10\n",
       "</pre></pre></td><td style='text-align: left;border-left:3px solid gray;'><pre>\n",
       "[ 4,\n",
       "  9,\n",
       "  25,\n",
       "  49,\n",
       "  121,\n",
       "  169,\n",
       "  289,\n",
       "  361,\n",
       "  529,\n",
       "  841]</pre></td></tr></table>"
      ],
      "text/plain": [
       "<IPython.core.display.HTML object>"
      ]
     },
     "execution_count": 38,
     "metadata": {},
     "output_type": "execute_result"
    }
   ],
   "source": [
    "from corrections.gen_primes import exo_prime_squares\n",
    "exo_prime_squares.example() "
   ]
  },
  {
   "cell_type": "code",
   "execution_count": 39,
   "metadata": {},
   "outputs": [],
   "source": [
    "# à vous\n",
    "\n",
    "def prime_squares():\n",
    "    ..."
   ]
  },
  {
   "cell_type": "code",
   "execution_count": 40,
   "metadata": {},
   "outputs": [
    {
     "data": {
      "text/html": [
       "<table style='font-family:monospace;font-size:small;'><tr style='font-family:monospace;font-size:medium;'><th style='text-align: center;'><pre>Appel</pre></th><th style='text-align: center;'><pre>Attendu</pre></th><th style='text-align: center;'><pre>Obtenu</pre></th><th style='text-align: center;'><pre></pre></th></tr><tr style='background-color:#efd6d6;border-bottom:2px solid gray;'><td><pre><pre>\n",
       "prime_squares()\n",
       "iters → 10\n",
       "</pre></pre></td><td style='text-align: left;border-left:3px solid gray;'><pre>\n",
       "[ 4,\n",
       "  9,\n",
       "  25,\n",
       "  49,\n",
       "  121,\n",
       "  169,\n",
       "  289,\n",
       "  361,\n",
       "  529,\n",
       "  841]</pre></td><td style='text-align: left;border-left:1px solid gray;'><pre>\n",
       "TypeError('not an iterator! received a NoneType instance: None ')</pre></td><td style='border-left:3px solid gray;'><pre>KO</pre></td></tr></table>"
      ],
      "text/plain": [
       "<IPython.core.display.HTML object>"
      ]
     },
     "execution_count": 40,
     "metadata": {},
     "output_type": "execute_result"
    }
   ],
   "source": [
    "exo_prime_squares.correction(prime_squares)"
   ]
  },
  {
   "cell_type": "markdown",
   "metadata": {},
   "source": [
    "***\n",
    "***\n",
    "***"
   ]
  },
  {
   "cell_type": "markdown",
   "metadata": {},
   "source": [
    "## 3. combinaisons d'itérateurs"
   ]
  },
  {
   "cell_type": "markdown",
   "metadata": {},
   "source": [
    "On vous demande d'écrire un itérateur qui énumère des couples :\n",
    "* en première position, on veut trouver les nombres premiers, mais avec un décalage:  \n",
    "  les **cinq premiers tuples** contiennent `1`, puis le sixième contient 2, et à partir de là les nombres premiers;\n",
    "* en deuxième position, les carrés des nombres premiers, sans décalage :"
   ]
  },
  {
   "cell_type": "code",
   "execution_count": 41,
   "metadata": {},
   "outputs": [
    {
     "data": {
      "text/html": [
       "<table style='font-family:monospace;font-size:small;'><tr style='font-family:monospace;font-size:medium;'><th style='text-align: center;'><pre>Appel</pre></th><th style='text-align: center;'><pre>Resultat Attendu</pre></th></tr><tr><td><pre><pre>\n",
       "prime_legos()\n",
       "iters → 10\n",
       "</pre></pre></td><td style='text-align: left;border-left:3px solid gray;'><pre>\n",
       "[ (1, 4),\n",
       "  (1, 9),\n",
       "  (1, 25),\n",
       "  (1, 49),\n",
       "  (1, 121),\n",
       "  (2, 169),\n",
       "  (3, 289),\n",
       "  (5, 361),\n",
       "  (7, 529),\n",
       "  (11, 841)]</pre></td></tr><tr><td><pre><pre>\n",
       "prime_legos()\n",
       "iters 50 → 100 / 10\n",
       "</pre></pre></td><td style='text-align: left;border-left:3px solid gray;'><pre>\n",
       "[ (199, 54289),\n",
       "  (263, 80089),\n",
       "  (317, 124609),\n",
       "  (383, 175561),\n",
       "  (443, 218089)]</pre></td></tr></table>"
      ],
      "text/plain": [
       "<IPython.core.display.HTML object>"
      ]
     },
     "execution_count": 41,
     "metadata": {},
     "output_type": "execute_result"
    }
   ],
   "source": [
    "from corrections.gen_primes import exo_prime_legos\n",
    "exo_prime_legos.example()"
   ]
  },
  {
   "cell_type": "code",
   "execution_count": 42,
   "metadata": {},
   "outputs": [],
   "source": [
    "# à vous de jouer\n",
    "\n",
    "def prime_legos():\n",
    "    ..."
   ]
  },
  {
   "cell_type": "code",
   "execution_count": 43,
   "metadata": {},
   "outputs": [
    {
     "data": {
      "text/html": [
       "<table style='font-family:monospace;font-size:small;'><tr style='font-family:monospace;font-size:medium;'><th style='text-align: center;'><pre>Appel</pre></th><th style='text-align: center;'><pre>Attendu</pre></th><th style='text-align: center;'><pre>Obtenu</pre></th><th style='text-align: center;'><pre></pre></th></tr><tr style='background-color:#efd6d6;border-bottom:2px solid gray;'><td><pre><pre>\n",
       "prime_legos()\n",
       "iters → 10\n",
       "</pre></pre></td><td style='text-align: left;border-left:3px solid gray;'><pre>\n",
       "[ (1, 4),\n",
       "  (1, 9),\n",
       "  (1, 25),\n",
       "  (1, 49),\n",
       "  (1, 121),\n",
       "  (2, 169),\n",
       "  (3, 289),\n",
       "  (5, 361),\n",
       "  (7, 529),\n",
       "  (11, 841)]</pre></td><td style='text-align: left;border-left:1px solid gray;'><pre>\n",
       "TypeError('not an iterator! received a NoneType instance: None ')</pre></td><td style='border-left:3px solid gray;'><pre>KO</pre></td></tr><tr style='background-color:#efd6d6;border-bottom:2px solid gray;'><td><pre><pre>\n",
       "prime_legos()\n",
       "iters 50 → 100 / 10\n",
       "</pre></pre></td><td style='text-align: left;border-left:3px solid gray;'><pre>\n",
       "[ (199, 54289),\n",
       "  (263, 80089),\n",
       "  (317, 124609),\n",
       "  (383, 175561),\n",
       "  (443, 218089)]</pre></td><td style='text-align: left;border-left:1px solid gray;'><pre>\n",
       "TypeError('not an iterator! received a NoneType instance: None ')</pre></td><td style='border-left:3px solid gray;'><pre>KO</pre></td></tr></table>"
      ],
      "text/plain": [
       "<IPython.core.display.HTML object>"
      ]
     },
     "execution_count": 43,
     "metadata": {},
     "output_type": "execute_result"
    }
   ],
   "source": [
    "exo_prime_legos.correction(prime_legos)"
   ]
  },
  {
   "cell_type": "markdown",
   "metadata": {},
   "source": [
    "***\n",
    "***\n",
    "***"
   ]
  },
  {
   "cell_type": "markdown",
   "metadata": {},
   "source": [
    "## 4. les $n$-ièmes nombres premiers, avec $n$ premier"
   ]
  },
  {
   "cell_type": "markdown",
   "metadata": {},
   "source": [
    "On vous demande d'implémenter un itérateur qui renvoie les $n$-ièmes nombres premiers, mais seulement pour $n$ premier.\n",
    "\n",
    "Ainsi comme `primes()` retourne la suite \n",
    "\n",
    "| indice | premier |\n",
    "|--------|---------|\n",
    "| 0 | 2 |\n",
    "| 1 | 3 |\n",
    "| 2 | 5 |\n",
    "| 3 | 7 |\n",
    "| 4 | 11|\n",
    "| 5 | 13|\n",
    "| 6 | 17|\n",
    "| 7 | 19|\n",
    "\n",
    "on veut que `prime_th_primes` retourne la suite\n",
    "\n",
    "| indice | premier |\n",
    "|--------|---------|\n",
    "| 0 | 5 |\n",
    "| 1 | 7 |\n",
    "| 2 | 13|\n",
    "| 3 | 19|\n",
    "\n",
    "\n"
   ]
  },
  {
   "cell_type": "code",
   "execution_count": 44,
   "metadata": {},
   "outputs": [
    {
     "data": {
      "text/html": [
       "<table style='font-family:monospace;font-size:small;'><tr style='font-family:monospace;font-size:medium;'><th style='text-align: center;'><pre>Appel</pre></th><th style='text-align: center;'><pre>Resultat Attendu</pre></th></tr><tr><td><pre><pre>\n",
       "prime_th_primes()\n",
       "iters → 10\n",
       "</pre></pre></td><td style='text-align: left;border-left:3px solid gray;'><pre>\n",
       "[ 5,\n",
       "  7,\n",
       "  13,\n",
       "  19,\n",
       "  37,\n",
       "  43,\n",
       "  61,\n",
       "  71,\n",
       "  89,\n",
       "  113]</pre></td></tr></table>"
      ],
      "text/plain": [
       "<IPython.core.display.HTML object>"
      ]
     },
     "execution_count": 44,
     "metadata": {},
     "output_type": "execute_result"
    }
   ],
   "source": [
    "# ce qui est illustré sur cet exemple calculé, qui va un peu plus loin\n",
    "\n",
    "from corrections.gen_primes import exo_prime_th_primes\n",
    "exo_prime_th_primes.example()"
   ]
  },
  {
   "cell_type": "code",
   "execution_count": 45,
   "metadata": {},
   "outputs": [],
   "source": [
    "# à vous de jouer\n",
    "\n",
    "def prime_th_primes():\n",
    "    # souvenez-vous que vous devez retourner un itérateur\n",
    "    return itertools.count()"
   ]
  },
  {
   "cell_type": "code",
   "execution_count": 46,
   "metadata": {},
   "outputs": [
    {
     "data": {
      "text/html": [
       "<table style='font-family:monospace;font-size:small;'><tr style='font-family:monospace;font-size:medium;'><th style='text-align: center;'><pre>Appel</pre></th><th style='text-align: center;'><pre>Attendu</pre></th><th style='text-align: center;'><pre>Obtenu</pre></th><th style='text-align: center;'><pre></pre></th></tr><tr style='background-color:#efd6d6;border-bottom:2px solid gray;'><td><pre><pre>\n",
       "prime_th_primes()\n",
       "iters → 10\n",
       "</pre></pre></td><td style='text-align: left;border-left:3px solid gray;'><pre>\n",
       "[ 5,\n",
       "  7,\n",
       "  13,\n",
       "  19,\n",
       "  37,\n",
       "  43,\n",
       "  61,\n",
       "  71,\n",
       "  89,\n",
       "  113]</pre></td><td style='text-align: left;border-left:1px solid gray;'><pre>\n",
       "[ 0,\n",
       "  1,\n",
       "  2,\n",
       "  3,\n",
       "  4,\n",
       "  5,\n",
       "  6,\n",
       "  7,\n",
       "  8,\n",
       "  9]</pre></td><td style='border-left:3px solid gray;'><pre>KO</pre></td></tr><tr style='background-color:#efd6d6;border-bottom:2px solid gray;'><td><pre><pre>\n",
       "prime_th_primes()\n",
       "iters 1 → 20 / 2\n",
       "</pre></pre></td><td style='text-align: left;border-left:3px solid gray;'><pre>\n",
       "[ 7,\n",
       "  19,\n",
       "  43,\n",
       "  71,\n",
       "  113,\n",
       "  163,\n",
       "  193,\n",
       "  251,\n",
       "  293,\n",
       "  359]</pre></td><td style='text-align: left;border-left:1px solid gray;'><pre>\n",
       "[ 1,\n",
       "  3,\n",
       "  5,\n",
       "  7,\n",
       "  9,\n",
       "  11,\n",
       "  13,\n",
       "  15,\n",
       "  17,\n",
       "  19]</pre></td><td style='border-left:3px solid gray;'><pre>KO</pre></td></tr></table>"
      ],
      "text/plain": [
       "<IPython.core.display.HTML object>"
      ]
     },
     "execution_count": 46,
     "metadata": {},
     "output_type": "execute_result"
    }
   ],
   "source": [
    "# pour corriger votre code\n",
    "exo_prime_th_primes.correction(prime_th_primes)"
   ]
  }
 ],
 "metadata": {
  "jupytext": {
   "cell_metadata_filter": "all",
   "encoding": "# -*- coding: utf-8 -*-",
   "notebook_metadata_filter": "all,-language_info",
   "text_representation": {
    "extension": ".py",
    "format_name": "percent",
    "format_version": "1.2",
    "jupytext_version": "1.2.4"
   }
  },
  "kernelspec": {
   "display_name": "Python 3",
   "language": "python",
   "name": "python3"
  },
  "language_info": {
   "codemirror_mode": {
    "name": "ipython",
    "version": 3
   },
   "file_extension": ".py",
   "mimetype": "text/x-python",
   "name": "python",
   "nbconvert_exporter": "python",
   "pygments_lexer": "ipython3",
   "version": "3.7.3"
  },
  "notebookname": "exercice - générateur de nombres premiers",
  "version": "3.0"
 },
 "nbformat": 4,
 "nbformat_minor": 2
}
