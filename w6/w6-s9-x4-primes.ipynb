{
 "cells": [
  {
   "cell_type": "markdown",
   "metadata": {},
   "source": [
    "# exercice - niveau avancé"
   ]
  },
  {
   "cell_type": "code",
   "execution_count": 35,
   "metadata": {},
   "outputs": [],
   "source": [
    "import itertools"
   ]
  },
  {
   "cell_type": "markdown",
   "metadata": {},
   "source": [
    "## nombres premiers"
   ]
  },
  {
   "cell_type": "markdown",
   "metadata": {},
   "source": [
    "On vous demande d'écrire un générateur qui énumère les nombres premiers."
   ]
  },
  {
   "cell_type": "code",
   "execution_count": 47,
   "metadata": {},
   "outputs": [
    {
     "data": {
      "text/html": [
       "<table style='font-family:monospace;font-size:small;'><tr style='font-family:monospace;font-size:medium;'><th style='text-align: center;'><pre>Appel</pre></th><th style='text-align: center;'><pre>Resultat Attendu</pre></th></tr><tr><td><pre><pre>\n",
       "primes()\n",
       "iters → 20\n",
       "</pre></pre></td><td style='text-align: left;border-left:3px solid gray;'><pre>\n",
       "[ 2,\n",
       "  3,\n",
       "  5,\n",
       "  7,\n",
       "  11,\n",
       "  13,\n",
       "  17,\n",
       "  19,\n",
       "  23,\n",
       "  29,\n",
       "  31,\n",
       "  37,\n",
       "  41,\n",
       "  43,\n",
       "  47,\n",
       "  53,\n",
       "  59,\n",
       "  61,\n",
       "  67,\n",
       "  71]</pre></td></tr><tr><td><pre><pre>\n",
       "primes()\n",
       "iters 1 → 6 / 2\n",
       "</pre></pre></td><td style='text-align: left;border-left:3px solid gray;'><pre>\n",
       "[3, 7, 13]</pre></td></tr><tr><td><pre><pre>\n",
       "primes()\n",
       "iters 10 → 20 / 2\n",
       "</pre></pre></td><td style='text-align: left;border-left:3px solid gray;'><pre>\n",
       "[31, 41, 47, 59, 67]</pre></td></tr><tr><td><pre><pre>\n",
       "primes()\n",
       "iters 98 → 101\n",
       "</pre></pre></td><td style='text-align: left;border-left:3px solid gray;'><pre>\n",
       "[523, 541, 547]</pre></td></tr></table>"
      ],
      "text/plain": [
       "<IPython.core.display.HTML object>"
      ]
     },
     "execution_count": 47,
     "metadata": {},
     "output_type": "execute_result"
    }
   ],
   "source": [
    "from corrections.gen_primes import exo_primes\n",
    "exo_primes.example()"
   ]
  },
  {
   "cell_type": "markdown",
   "metadata": {},
   "source": [
    "Le générateur ne s'arrête donc jamais, c'est un générateur infini comme `itertools.count()`. \n",
    "Le système de correction automatique est capable d'extraire certaines parties du flux du générateur, avec une convention voisine de `range()` et/ou du *slicing*.\n",
    "\n",
    "Ainsi par exemple le deuxième jeu de test, sous-titré `1 → 5 / 2`, va retenir les éléments énumérés par le générateur aux itérations *1, 3 et 5* - en commençant bien sûr à compter à 0."
   ]
  },
  {
   "cell_type": "markdown",
   "metadata": {},
   "source": [
    "**NOTES**\n",
    "* évidemment, il vous faut retourner un itérateur, et la correction automatique vérifiera ce point\n",
    "* notez aussi que, lorsqu'on cherche à déterminer si $n$ est entier, on a nécessairement déjà fait ce travail sur tous les entiers plus petits que $n$, il est donc tentant, et fortement recommandé, de profiter de cette information pour accélérer l'algorithme\n",
    "* si votre algorithme est très lent ou faux, vous pouvez *perdre* le *kernel* (en français noyau), c'est-à-dire qu'il calcule pendant très longtemps (ou pour toujours); dans ces cas-là, la marge gauche indique `In [*]:` et l'étoile n'est jamais remplacée par un chiffre  \n",
    "  il vous **faut alors interrompre** votre kernel; pour cela utilisez le menu *Kernel* qui a des options pour interrompre ou redémarrer le kernel courant; les raccourcis clavier `i i` et `0 0` permettent aussi d'interrompre et redémarrer le noyau"
   ]
  },
  {
   "cell_type": "code",
   "execution_count": 41,
   "metadata": {},
   "outputs": [],
   "source": [
    "# à vous de jouer\n",
    "def primes():\n",
    "    ..."
   ]
  },
  {
   "cell_type": "code",
   "execution_count": 53,
   "metadata": {},
   "outputs": [
    {
     "data": {
      "text/html": [
       "<table style='font-family:monospace;font-size:small;'><tr style='font-family:monospace;font-size:medium;'><th style='text-align: center;'><pre>Appel</pre></th><th style='text-align: center;'><pre>Attendu</pre></th><th style='text-align: center;'><pre>Obtenu</pre></th><th style='text-align: center;'><pre></pre></th></tr><tr style='background-color:#efd6d6;border-bottom:2px solid gray;'><td><pre><pre>\n",
       "primes()\n",
       "iters → 20\n",
       "</pre></pre></td><td style='text-align: left;border-left:3px solid gray;'><pre>\n",
       "[ 2,\n",
       "  3,\n",
       "  5,\n",
       "  7,\n",
       "  11,\n",
       "  13,\n",
       "  17,\n",
       "  19,\n",
       "  23,\n",
       "  29,\n",
       "  31,\n",
       "  37,\n",
       "  41,\n",
       "  43,\n",
       "  47,\n",
       "  53,\n",
       "  59,\n",
       "  61,\n",
       "  67,\n",
       "  71]</pre></td><td style='text-align: left;border-left:1px solid gray;'><pre>\n",
       "TypeError('not an iterator! received a NoneType instance: None ')</pre></td><td style='border-left:3px solid gray;'><pre>KO</pre></td></tr><tr style='background-color:#efd6d6;border-bottom:2px solid gray;'><td><pre><pre>\n",
       "primes()\n",
       "iters 1 → 6 / 2\n",
       "</pre></pre></td><td style='text-align: left;border-left:3px solid gray;'><pre>\n",
       "[3, 7, 13]</pre></td><td style='text-align: left;border-left:1px solid gray;'><pre>\n",
       "TypeError('not an iterator! received a NoneType instance: None ')</pre></td><td style='border-left:3px solid gray;'><pre>KO</pre></td></tr><tr style='background-color:#efd6d6;border-bottom:2px solid gray;'><td><pre><pre>\n",
       "primes()\n",
       "iters 10 → 20 / 2\n",
       "</pre></pre></td><td style='text-align: left;border-left:3px solid gray;'><pre>\n",
       "[31, 41, 47, 59, 67]</pre></td><td style='text-align: left;border-left:1px solid gray;'><pre>\n",
       "TypeError('not an iterator! received a NoneType instance: None ')</pre></td><td style='border-left:3px solid gray;'><pre>KO</pre></td></tr><tr style='background-color:#efd6d6;border-bottom:2px solid gray;'><td><pre><pre>\n",
       "primes()\n",
       "iters 98 → 101\n",
       "</pre></pre></td><td style='text-align: left;border-left:3px solid gray;'><pre>\n",
       "[523, 541, 547]</pre></td><td style='text-align: left;border-left:1px solid gray;'><pre>\n",
       "TypeError('not an iterator! received a NoneType instance: None ')</pre></td><td style='border-left:3px solid gray;'><pre>KO</pre></td></tr></table>"
      ],
      "text/plain": [
       "<IPython.core.display.HTML object>"
      ]
     },
     "execution_count": 53,
     "metadata": {},
     "output_type": "execute_result"
    }
   ],
   "source": [
    "# pour corriger votre code\n",
    "exo_primes.correction(primes)"
   ]
  },
  {
   "cell_type": "code",
   "execution_count": 56,
   "metadata": {},
   "outputs": [],
   "source": [
    "# xxx remove me\n",
    "from corrections.gen_primes import primes"
   ]
  },
  {
   "cell_type": "markdown",
   "metadata": {},
   "source": [
    "##### zone de debug"
   ]
  },
  {
   "cell_type": "code",
   "execution_count": 59,
   "metadata": {},
   "outputs": [
    {
     "name": "stdout",
     "output_type": "stream",
     "text": [
      "0 -> 2\n",
      "1 -> 3\n",
      "2 -> 5\n",
      "3 -> 7\n",
      "4 -> 11\n",
      "5 -> 13\n",
      "6 -> 17\n",
      "7 -> 19\n",
      "8 -> 23\n",
      "9 -> 29\n"
     ]
    }
   ],
   "source": [
    "# à toutes fins utiles\n",
    "\n",
    "MAX = 10\n",
    "\n",
    "iterator = primes()\n",
    "\n",
    "for index, prime in enumerate(itertools.islice(iterator, MAX)):\n",
    "    print(f\"{index} -> {prime}\")"
   ]
  },
  {
   "cell_type": "code",
   "execution_count": 63,
   "metadata": {},
   "outputs": [
    {
     "name": "stdout",
     "output_type": "stream",
     "text": [
      "3000-th prime is 27457\n"
     ]
    }
   ],
   "source": [
    "# ou encore\n",
    "iterator = primes()\n",
    "\n",
    "DIVE = 3000\n",
    "\n",
    "for _ in range(DIVE):\n",
    "    next(iterator)\n",
    "    \n",
    "print(f\"{DIVE}-th prime is {next(iterator)}\")"
   ]
  }
 ],
 "metadata": {
  "jupytext": {
   "cell_metadata_filter": "all",
   "notebook_metadata_filter": "all,-language_info",
   "text_representation": {
    "extension": ".py",
    "format_name": "percent",
    "format_version": "1.2",
    "jupytext_version": "1.2.4"
   }
  },
  "kernelspec": {
   "display_name": "Python 3",
   "language": "python",
   "name": "python3"
  },
  "language_info": {
   "codemirror_mode": {
    "name": "ipython",
    "version": 3
   },
   "file_extension": ".py",
   "mimetype": "text/x-python",
   "name": "python",
   "nbconvert_exporter": "python",
   "pygments_lexer": "ipython3",
   "version": "3.7.3"
  }
 },
 "nbformat": 4,
 "nbformat_minor": 2
}
