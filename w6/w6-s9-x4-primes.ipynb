{
 "cells": [
  {
   "cell_type": "markdown",
   "metadata": {},
   "source": [
    "<div class=\"licence\">\n",
    "<span>Licence CC BY-NC-ND</span>\n",
    "<span>Thierry Parmentelat &amp; Arnaud Legout</span>\n",
    "<span><img src=\"media/both-logos-small-alpha.png\" /></span>\n",
    "</div>"
   ]
  },
  {
   "cell_type": "markdown",
   "metadata": {},
   "source": [
    "# exercice - niveau avancé"
   ]
  },
  {
   "cell_type": "markdown",
   "metadata": {},
   "source": [
    "## itérateurs et générateurs\n",
    "\n",
    "Tous les exercices de ce notebook vous demandent d'écrire des fonctions qui construisent des itérateurs."
   ]
  },
  {
   "cell_type": "code",
   "execution_count": null,
   "metadata": {},
   "outputs": [],
   "source": [
    "import itertools"
   ]
  },
  {
   "cell_type": "markdown",
   "metadata": {},
   "source": [
    "## 1. nombres premiers"
   ]
  },
  {
   "cell_type": "markdown",
   "metadata": {},
   "source": [
    "On vous demande d'écrire un générateur qui énumère les nombres premiers.\n",
    "\n",
    "Naturellement il existe de nombreuses biliothèques pour cela, mais on vous demande ici d'écrire votre propre algorithme, même s'il est naïf."
   ]
  },
  {
   "cell_type": "code",
   "execution_count": null,
   "metadata": {},
   "outputs": [],
   "source": [
    "from corrections.gen_primes import exo_primes\n",
    "exo_primes.example()"
   ]
  },
  {
   "cell_type": "markdown",
   "metadata": {},
   "source": [
    "Le générateur ne s'arrête donc jamais, c'est un générateur infini comme `itertools.count()`. \n",
    "Le système de correction automatique est capable d'extraire certaines parties du flux du générateur, avec une convention voisine de `range()` et/ou du *slicing*.\n",
    "\n",
    "Ainsi par exemple le deuxième jeu de test, sous-titré `1 → 5 / 2`, va retenir les éléments énumérés par le générateur aux itérations *1, 3 et 5* - en commençant bien sûr à compter à 0."
   ]
  },
  {
   "cell_type": "markdown",
   "metadata": {},
   "source": [
    "**NOTES**\n",
    "\n",
    "* évidemment, il vous faut retourner un itérateur, et la correction automatique vérifiera ce point\n",
    "* notez aussi que, lorsqu'on cherche à déterminer si $n$ est entier, on a nécessairement déjà fait ce travail sur tous les entiers plus petits que $n$, il est donc tentant, et fortement recommandé, de profiter de cette information pour accélérer l'algorithme\n",
    "* si votre algorithme est très lent ou faux, vous pouvez *perdre* le *kernel* (en français noyau), c'est-à-dire qu'il calcule pendant très longtemps (ou pour toujours); dans ces cas-là, la marge gauche indique `In [*]:` et l'étoile n'est jamais remplacée par un chiffre  \n",
    "  il vous **faut alors interrompre** votre kernel; pour cela utilisez le menu *Kernel* qui a des options pour interrompre ou redémarrer le kernel courant; les raccourcis clavier `i i` et `0 0` permettent aussi d'interrompre et redémarrer le noyau"
   ]
  },
  {
   "cell_type": "code",
   "execution_count": null,
   "metadata": {},
   "outputs": [],
   "source": [
    "# à vous de jouer\n",
    "\n",
    "def primes():\n",
    "    # vous DEVEZ retourner un itérateur\n",
    "    # bien sûr count() n'est pas une bonne réponse...\n",
    "    return itertools.count()"
   ]
  },
  {
   "cell_type": "code",
   "execution_count": null,
   "metadata": {},
   "outputs": [],
   "source": [
    "# pour corriger votre code\n",
    "exo_primes.correction(primes)"
   ]
  },
  {
   "cell_type": "markdown",
   "metadata": {},
   "source": [
    "##### zone de debug"
   ]
  },
  {
   "cell_type": "code",
   "execution_count": null,
   "metadata": {},
   "outputs": [],
   "source": [
    "# à toutes fins utiles\n",
    "\n",
    "MAX = 10\n",
    "\n",
    "iterator = primes()\n",
    "\n",
    "for index, prime in enumerate(itertools.islice(iterator, MAX)):\n",
    "    print(f\"{index} -> {prime}\")"
   ]
  },
  {
   "cell_type": "markdown",
   "metadata": {},
   "source": [
    "***\n",
    "***\n",
    "***"
   ]
  },
  {
   "cell_type": "markdown",
   "metadata": {},
   "source": [
    "## 2. les carrés des nombres premiers"
   ]
  },
  {
   "cell_type": "markdown",
   "metadata": {},
   "source": [
    "On veut à présent énumérer les carrés des nombres premiers\n",
    "\n",
    "**NOTE** il y a au moins deux façons triviales de parvenir au résultat."
   ]
  },
  {
   "cell_type": "code",
   "execution_count": null,
   "metadata": {},
   "outputs": [],
   "source": [
    "from corrections.gen_primes import exo_prime_squares\n",
    "exo_prime_squares.example() "
   ]
  },
  {
   "cell_type": "code",
   "execution_count": null,
   "metadata": {},
   "outputs": [],
   "source": [
    "# à vous\n",
    "\n",
    "def prime_squares():\n",
    "    ..."
   ]
  },
  {
   "cell_type": "code",
   "execution_count": null,
   "metadata": {},
   "outputs": [],
   "source": [
    "exo_prime_squares.correction(prime_squares)"
   ]
  },
  {
   "cell_type": "markdown",
   "metadata": {},
   "source": [
    "***\n",
    "***\n",
    "***"
   ]
  },
  {
   "cell_type": "markdown",
   "metadata": {},
   "source": [
    "## 3. combinaisons d'itérateurs"
   ]
  },
  {
   "cell_type": "markdown",
   "metadata": {},
   "source": [
    "On vous demande d'écrire un itérateur qui énumère des couples :\n",
    "\n",
    "* en première position, on veut trouver les nombres premiers, mais avec un décalage:  \n",
    "  les **cinq premiers tuples** contiennent `1`, puis le sixième contient 2, et à partir de là les nombres premiers;\n",
    "* en deuxième position, les carrés des nombres premiers, sans décalage :"
   ]
  },
  {
   "cell_type": "markdown",
   "metadata": {},
   "source": [
    "**NOTE**  \n",
    "il peut être tentant de créer deux instances de l'itérateur `primes()`; toutefois c'est cet objet qui demande le plus de temps calcul, aussi on vous suggère de réfléchir, en option, à une solution qui ne crée qu'un seul exemplaire de cet itérateur."
   ]
  },
  {
   "cell_type": "code",
   "execution_count": null,
   "metadata": {},
   "outputs": [],
   "source": [
    "from corrections.gen_primes import exo_prime_legos\n",
    "exo_prime_legos.example()"
   ]
  },
  {
   "cell_type": "code",
   "execution_count": null,
   "metadata": {},
   "outputs": [],
   "source": [
    "# à vous de jouer\n",
    "\n",
    "def prime_legos():\n",
    "    ..."
   ]
  },
  {
   "cell_type": "code",
   "execution_count": null,
   "metadata": {},
   "outputs": [],
   "source": [
    "exo_prime_legos.correction(prime_legos)"
   ]
  },
  {
   "cell_type": "markdown",
   "metadata": {},
   "source": [
    "***\n",
    "***\n",
    "***"
   ]
  },
  {
   "cell_type": "markdown",
   "metadata": {},
   "source": [
    "## 4. les $n$-ièmes nombres premiers, avec $n$ premier"
   ]
  },
  {
   "cell_type": "markdown",
   "metadata": {},
   "source": [
    "On vous demande d'implémenter un itérateur qui renvoie les $n$-ièmes nombres premiers, mais seulement pour $n$ premier.\n",
    "\n",
    "Ainsi comme `primes()` retourne la suite \n",
    "\n",
    "| indice | premier |\n",
    "|--------|---------|\n",
    "| 0 | 2 |\n",
    "| 1 | 3 |\n",
    "| 2 | 5 |\n",
    "| 3 | 7 |\n",
    "| 4 | 11|\n",
    "| 5 | 13|\n",
    "| 6 | 17|\n",
    "| 7 | 19|\n",
    "\n",
    "on veut que `prime_th_primes` retourne la suite\n",
    "\n",
    "| indice | premier |\n",
    "|--------|---------|\n",
    "| 0 | 5 |\n",
    "| 1 | 7 |\n",
    "| 2 | 13|\n",
    "| 3 | 19|\n",
    "\n",
    "\n"
   ]
  },
  {
   "cell_type": "code",
   "execution_count": null,
   "metadata": {},
   "outputs": [],
   "source": [
    "# ce qui est illustré sur cet exemple calculé, qui va un peu plus loin\n",
    "\n",
    "from corrections.gen_primes import exo_prime_th_primes\n",
    "exo_prime_th_primes.example()"
   ]
  },
  {
   "cell_type": "code",
   "execution_count": null,
   "metadata": {},
   "outputs": [],
   "source": [
    "# à vous de jouer\n",
    "\n",
    "def prime_th_primes():\n",
    "    # souvenez-vous que vous devez retourner un itérateur\n",
    "    return itertools.count()"
   ]
  },
  {
   "cell_type": "code",
   "execution_count": null,
   "metadata": {},
   "outputs": [],
   "source": [
    "# pour corriger votre code\n",
    "exo_prime_th_primes.correction(prime_th_primes)"
   ]
  }
 ],
 "metadata": {
  "jupytext": {
   "cell_metadata_filter": "all",
   "encoding": "# -*- coding: utf-8 -*-",
   "notebook_metadata_filter": "all,-language_info",
   "text_representation": {
    "extension": ".py",
    "format_name": "percent",
    "format_version": "1.2",
    "jupytext_version": "1.2.4"
   }
  },
  "kernelspec": {
   "display_name": "Python 3",
   "language": "python",
   "name": "python3"
  },
  "language_info": {
   "codemirror_mode": {
    "name": "ipython",
    "version": 3
   },
   "file_extension": ".py",
   "mimetype": "text/x-python",
   "name": "python",
   "nbconvert_exporter": "python",
   "pygments_lexer": "ipython3",
   "version": "3.7.3"
  },
  "notebookname": "exercice - générateur de nombres premiers",
  "version": "3.0"
 },
 "nbformat": 4,
 "nbformat_minor": 4
}
