{
 "cells": [
  {
   "cell_type": "markdown",
   "metadata": {},
   "source": [
    "<div class=\"licence\">\n",
    "<span>Licence CC BY-NC-ND</span>\n",
    "<span>Thierry Parmentelat &amp; Arnaud Legout</span>\n",
    "<span><img src=\"media/both-logos-small-alpha.png\" /></span>\n",
    "</div>"
   ]
  },
  {
   "cell_type": "markdown",
   "metadata": {},
   "source": [
    "\n",
    "# Quelques sujets d'exercice en vrac"
   ]
  },
  {
   "cell_type": "code",
   "execution_count": null,
   "metadata": {},
   "outputs": [],
   "source": [
    "# ceci permet de recharger les modules\n",
    "# lorsqu'ils ont été modifiés en dehors du notebook\n",
    "\n",
    "# pour commodité lors du développement des exercices\n",
    "\n",
    "%load_ext autoreload\n",
    "%autoreload 2"
   ]
  },
  {
   "cell_type": "markdown",
   "metadata": {},
   "source": [
    "#### niveaux de difficulté"
   ]
  },
  {
   "cell_type": "markdown",
   "metadata": {},
   "source": [
    "La plupart de (tous?) ces exercices sont inspirés d'énoncés trouvés sur https://codewars.com/; dans ces cas-là j'indique la référence, ainsi que la difficulté affichée sur codewars ; [l'échelle est à la japonaise](https://github.com/Codewars/codewars.com/wiki/Kata-Ranking), 1 kyu c'est très difficile et 8 kuy c'est très simple."
   ]
  },
  {
   "cell_type": "markdown",
   "metadata": {},
   "source": [
    "******"
   ]
  },
  {
   "cell_type": "markdown",
   "metadata": {},
   "source": [
    "## trouver la somme"
   ]
  },
  {
   "cell_type": "markdown",
   "metadata": {},
   "source": [
    "**inspiré de https://www.codewars.com/kata/52c31f8e6605bcc646000082** (6 kyu)"
   ]
  },
  {
   "cell_type": "markdown",
   "metadata": {},
   "source": [
    "on cherche dans une liste deux nombres dont la somme est fixée\n",
    "\n",
    "en entrée : une liste de nombres, et une valeur cible\n",
    "en sortie : les indexes dans la liste de deux nombres dont la somme fait la valeur cible\n",
    "\n",
    "hypothèses : on admet (pas besoin de le vérifier donc) que les entrées sont correctes, c'est-à-dire ne contiennent que des nombres et qu'il existe une solution\n",
    "\n",
    "unicité : n'importe quelle solution est valable en cas de solutions multiples; toutefois pour des raisons techniques, la correction automatique ne teste votre code que sur des entrées où la solution est unique."
   ]
  },
  {
   "cell_type": "code",
   "execution_count": null,
   "metadata": {},
   "outputs": [],
   "source": [
    "# charger l'exercice et afficher un exemple\n",
    "\n",
    "from corrections.exo_two_sum import exo_two_sum\n",
    "exo_two_sum.example()"
   ]
  },
  {
   "cell_type": "code",
   "execution_count": null,
   "metadata": {},
   "outputs": [],
   "source": [
    "def two_sum(data, target):\n",
    "    ..."
   ]
  },
  {
   "cell_type": "code",
   "execution_count": null,
   "metadata": {},
   "outputs": [],
   "source": [
    "exo_two_sum.correction(two_sum)"
   ]
  },
  {
   "cell_type": "markdown",
   "metadata": {},
   "source": [
    "*****"
   ]
  },
  {
   "cell_type": "markdown",
   "metadata": {},
   "source": [
    "## plus grande distance"
   ]
  },
  {
   "cell_type": "markdown",
   "metadata": {},
   "source": [
    "**inspiré de https://www.codewars.com/kata/5442e4fc7fc447653a0000d5** (6 kyu)"
   ]
  },
  {
   "cell_type": "markdown",
   "metadata": {},
   "source": [
    "* entrée: une liste d'objets (vous pouvez vous restreindre à des entiers pour commencer)\n",
    "* attendu: un entier qui décrit la plus grande distance entre deux occurrences du même objet dans la liste;  \n",
    "  si aucun objet n'est présent en double, retournez 0\n",
    "\n"
   ]
  },
  {
   "cell_type": "code",
   "execution_count": null,
   "metadata": {},
   "outputs": [],
   "source": [
    "from corrections.exo_longest_gap import exo_longest_gap\n",
    "\n",
    "exo_longest_gap.example()"
   ]
  },
  {
   "cell_type": "code",
   "execution_count": null,
   "metadata": {},
   "outputs": [],
   "source": [
    "# votre code\n",
    "def longest_gap(liste):\n",
    "    ..."
   ]
  },
  {
   "cell_type": "code",
   "execution_count": null,
   "metadata": {},
   "outputs": [],
   "source": [
    "exo_longest_gap.correction(longest_gap)"
   ]
  },
  {
   "cell_type": "markdown",
   "metadata": {},
   "source": [
    "## meeting"
   ]
  },
  {
   "cell_type": "markdown",
   "metadata": {},
   "source": [
    "**inspiré de https://www.codewars.com/kata/59df2f8f08c6cec835000012** (6 kyu)\n",
    "\n",
    "je vous invite à lire l'énoncé directement sur codewars"
   ]
  },
  {
   "cell_type": "code",
   "execution_count": null,
   "metadata": {},
   "outputs": [],
   "source": [
    "from corrections.exo_meeting import exo_meeting\n",
    "\n",
    "exo_meeting.example()"
   ]
  },
  {
   "cell_type": "code",
   "execution_count": null,
   "metadata": {},
   "outputs": [],
   "source": [
    "def meeting(string):\n",
    "    ..."
   ]
  },
  {
   "cell_type": "code",
   "execution_count": null,
   "metadata": {},
   "outputs": [],
   "source": [
    "exo_meeting.correction(meeting)"
   ]
  },
  {
   "cell_type": "markdown",
   "metadata": {},
   "source": [
    "****"
   ]
  },
  {
   "cell_type": "markdown",
   "metadata": {},
   "source": [
    "## évaluateur d'expression postfix\n"
   ]
  },
  {
   "cell_type": "markdown",
   "metadata": {},
   "source": [
    "Une fonction `postfix_eval` prend en entrée une chaine qui décrit une opération à faire sur des entiers, en utilisant la notation polonaise postfixée, où on écrit par exemple `10 20 +` pour ajouter 10 et 20.\n",
    "\n",
    "Les opérandes sont tous des entiers; on demande de supporter les 4 opérations `+` `-` `*` et `/` (division entière)\n",
    "\n",
    "Lorsque la chaine est mal formée, vous devez renvoyer une des trois chaines suivantes :\n",
    "\n",
    "* `error-syntax` si on ne peut pas comprendre l'entrée,\n",
    "* `error-empty-stack`, si on essaie de faire une opération mais qu'on n'a pas les deux opérandes nécessaires,\n",
    "* `error-unfinished`, si on détecte des opérandes non utilisés"
   ]
  },
  {
   "cell_type": "code",
   "execution_count": null,
   "metadata": {},
   "outputs": [],
   "source": [
    "# charger l'exercice et afficher un exemple\n",
    "from corrections.exo_postfix_eval import exo_postfix_eval\n",
    "exo_postfix_eval.example()"
   ]
  },
  {
   "cell_type": "code",
   "execution_count": null,
   "metadata": {},
   "outputs": [],
   "source": [
    "def postfix_eval(chaine):\n",
    "    ..."
   ]
  },
  {
   "cell_type": "code",
   "execution_count": null,
   "metadata": {},
   "outputs": [],
   "source": [
    "exo_postfix_eval.correction(postfix_eval)"
   ]
  },
  {
   "cell_type": "markdown",
   "metadata": {},
   "source": [
    "****"
   ]
  }
 ],
 "metadata": {
  "ipub": {
   "sphinx": {
    "toggle_input": true,
    "toggle_input_all": true,
    "toggle_output": true,
    "toggle_output_all": true
   }
  },
  "kernelspec": {
   "display_name": "Python 3",
   "language": "python",
   "name": "python3"
  },
  "language_info": {
   "codemirror_mode": {
    "name": "ipython",
    "version": 3
   },
   "file_extension": ".py",
   "mimetype": "text/x-python",
   "name": "python",
   "nbconvert_exporter": "python",
   "pygments_lexer": "ipython3",
   "version": "3.7.3"
  },
  "notebookname": "NO HEADING 1 found",
  "version": "3.0"
 },
 "nbformat": 4,
 "nbformat_minor": 2
}
