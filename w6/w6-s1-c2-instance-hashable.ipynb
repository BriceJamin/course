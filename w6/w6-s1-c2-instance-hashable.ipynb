{
 "cells": [
  {
   "cell_type": "markdown",
   "metadata": {},
   "source": [
    "<span style=\"float:left;\">Licence CC BY-NC-ND</span><span style=\"float:right;\">Thierry Parmentelat &amp; Arnaud Legout&nbsp;<img src=\"media/both-logos-small-alpha.png\" style=\"display:inline\"></span><br/>"
   ]
  },
  {
   "cell_type": "markdown",
   "metadata": {},
   "source": [
    "## Complément - niveau intermédiaire"
   ]
  },
  {
   "cell_type": "markdown",
   "metadata": {},
   "source": [
    "Souvenez-vous de ce qu'on avait dit en semaine 3 séquence 4, concernant les clés dans un dictionnaire ou les éléments dans un ensemble.\n",
    "\n",
    "Nous avions vu alors que, pour les types *builtin*, les clés devaient être des objets immuables et même globalement immuables.\n",
    "\n",
    "Nous allons voir dans ce complément quelles sont les règles qui s'appliquent aux instances de classe."
   ]
  },
  {
   "cell_type": "markdown",
   "metadata": {},
   "source": [
    "Une instance de classe est presque toujours un objet mutable (voir à ce sujet le complément suivant sur les `namedtuple`s).\n",
    "\n",
    "Et pourtant, le langage vous permet d'insérer une instance dans un ensemble - ou de l'utiliser comme clé dans un dictionnaire.\n",
    "\n",
    "Nous allons voir ce mécanisme en action, et mettre en évidence ses limites."
   ]
  },
  {
   "cell_type": "code",
   "execution_count": null,
   "metadata": {
    "collapsed": true
   },
   "outputs": [],
   "source": [
    "# on se crée un classe Point\n",
    "class Point1:\n",
    "    \n",
    "    def __init__(self, x, y):\n",
    "        self.x = x\n",
    "        self.y = y\n",
    "        \n",
    "    def __repr__(self):\n",
    "        return f\"Pt[{self.x}, {self.y}]\""
   ]
  },
  {
   "cell_type": "code",
   "execution_count": null,
   "metadata": {},
   "outputs": [],
   "source": [
    "p1 = Point1(2, 3)\n",
    "p2 = Point1(3, 4)\n",
    "\n",
    "# on peut les mettre dans un ensemble\n",
    "s = {p1, p2}"
   ]
  },
  {
   "cell_type": "markdown",
   "metadata": {},
   "source": [
    "Mais par contre soyez attentifs, car il faut savoir que la fonction de hachage sur les instances ne dépend que de la valeur de `id()` sur cet objet.\n",
    "\n",
    "Ce qui, dit autrement, signifie que deux objets qui sont\n",
    "\n",
    "* distincts au sens de `id()` \n",
    "* mais égaux au sens de `==` \n",
    "\n",
    "peuvent coexister dans un ensemble, ce qui est assez contre-intuitif; voyons cela:"
   ]
  },
  {
   "cell_type": "code",
   "execution_count": null,
   "metadata": {
    "collapsed": true
   },
   "outputs": [],
   "source": [
    "p0 = "
   ]
  }
 ],
 "metadata": {
  "celltoolbar": "Slideshow",
  "kernelspec": {
   "display_name": "Python 3",
   "language": "python",
   "name": "python3"
  },
  "language_info": {
   "codemirror_mode": {
    "name": "ipython",
    "version": 3
   },
   "file_extension": ".py",
   "mimetype": "text/x-python",
   "name": "python",
   "nbconvert_exporter": "python",
   "pygments_lexer": "ipython3",
   "version": "3.6.2"
  },
  "livereveal": {
   "auto_select": "code",
   "auto_select_fragment": true,
   "autolaunch": false,
   "backimage": "media/nologo.png",
   "height": "100%",
   "slideNumber": "c",
   "start_slideshow_at": "selected",
   "theme": "simple",
   "transition": "fade",
   "width": "100%"
  },
  "notebookname": "instances mutables",
  "version": "3.0"
 },
 "nbformat": 4,
 "nbformat_minor": 2
}