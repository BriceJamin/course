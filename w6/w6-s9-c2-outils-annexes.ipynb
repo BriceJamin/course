{
 "cells": [
  {
   "cell_type": "markdown",
   "metadata": {},
   "source": [
    "<div class=\"licence\">\n",
    "<span>Licence CC BY-NC-ND</span>\n",
    "<span>Thierry Parmentelat &amp; Arnaud Legout</span>\n",
    "<span><img src=\"media/both-logos-small-alpha.png\" /></span>\n",
    "</div>"
   ]
  },
  {
   "cell_type": "markdown",
   "metadata": {},
   "source": [
    "# Outils périphériques"
   ]
  },
  {
   "cell_type": "markdown",
   "metadata": {},
   "source": [
    "## Compléments - niveau intermédiaire"
   ]
  },
  {
   "cell_type": "markdown",
   "metadata": {},
   "source": [
    "Pour conclure le tronc commun de ce cours Python, nous allons très rapidement citer quelques outils qui ne sont pas nécessairement dans la bibliothèque standard, mais qui sont très largement utilisés dans l'écosystème python.\n",
    "\n",
    "Il s'agit d'une liste non exhaustive bien entendu."
   ]
  },
  {
   "cell_type": "markdown",
   "metadata": {},
   "source": [
    "### Debugging"
   ]
  },
  {
   "cell_type": "markdown",
   "metadata": {},
   "source": [
    "Pour le debugging, la bibliothèque standard s'appelle `pdb`. Typiquement pour mettre un *breakpoint* on écrit :\n",
    "\n",
    "```python\n",
    "def foo(n):\n",
    "    n = n ** 2\n",
    "    # pour mettre un point d'arrêt\n",
    "    import pdb\n",
    "    pdb.set_trace()\n",
    "    # la suite de foo()\n",
    "    return n / 10\n",
    "```"
   ]
  },
  {
   "cell_type": "markdown",
   "metadata": {},
   "source": [
    "Je vous signale d'ailleurs qu'**à partir de Python 3.7**, il est recommandé d'utiliser la nouvelle fonction *built-in* `breakpoint()` qui rend le même service."
   ]
  },
  {
   "cell_type": "markdown",
   "metadata": {},
   "source": [
    "Une fois qu'on a dit ça, votre IDE dispose certainement d'une fonctionnalité pour faire ça avec la souris de manière plus flexible."
   ]
  },
  {
   "cell_type": "markdown",
   "metadata": {},
   "source": [
    "### Tests"
   ]
  },
  {
   "cell_type": "markdown",
   "metadata": {},
   "source": [
    "Le module `unittest` de la bibliothèque standard fournit des fonctionnalités de base pour écrire des tests unitaires.\n",
    "\n",
    "Je vous signale également des outils comme `pytest` (et `nosetests`), qui ne sont pas dans la distribution standard, mais qui enrichissent les capacités de `unittest` pour en rendre l'utilisation quotidienne (beaucoup) plus fluide.\n",
    "\n",
    "Parmi les fonctionnalités fournies par un framework de test comme `pytest` :\n",
    "\n",
    "* découverte automatique des tests : en respectant les règles de nommage, il vous suffit de lancer `pytest` à la racine de votre projet pour exécuter tous les tests.\n",
    "  Vous pouvez en une commande lancer tous les tests, tous ceux d'un dossier ou d'un fichier, ou juste un test-case\n",
    "\n",
    "* exécution automatique des tests : vous vous concentrez sur le fait d'écrire ce qui doit se passer, le framework se charge du reste\n",
    "\n",
    "* *fixtures* pour expliciter plus simplement comment mettre le système dans un état contrôlé\n",
    "\n",
    "* et beaucoup d'autres choses…\n",
    "\n",
    "Pour approfondir le sujet, [cette note très courte](https://docs.pytest.org/en/latest/goodpractices.html) explicite les conventions pour la découverte des tests, et les bonnes pratiques.  \n",
    "Personnellement je préfère mettre les tests dans un dossier séparé du package, mais bon, tous les goûts sont dans la nature apparemment :)"
   ]
  },
  {
   "cell_type": "markdown",
   "metadata": {},
   "source": [
    "### Documentation"
   ]
  },
  {
   "cell_type": "markdown",
   "metadata": {},
   "source": [
    "Le standard de fait dans ce domaine est clairement une combinaison basée sur\n",
    "\n",
    "* l'outil `sphinx`, qui permet de générer la documentation à partir du source, avec\n",
    "  * des plugins pour divers sous-formats dans les docstrings,\n",
    "  * un système de templating,\n",
    "  * et de nombreuses autres possibilités ;\n",
    "* `readthedocs.io` qui est une plateforme ouverte pour l'hébergement des documentations, elle-même facilement intégrable avec un repository type `github.io`, \n",
    "\n",
    "Pour vous donner une idée du résultat, je vous invite à consulter un module de ma facture :\n",
    "\n",
    "* les sources sur github sur <https://github.com/parmentelat/asynciojobs>, et notamment le sous-répertoire `sphinx`,\n",
    "* et la documentation en ligne sur <http://asynciojobs.readthedocs.io/>."
   ]
  },
  {
   "cell_type": "markdown",
   "metadata": {},
   "source": [
    "### Linter"
   ]
  },
  {
   "cell_type": "markdown",
   "metadata": {},
   "source": [
    "Au delà de la vérification automatique de la présentation du code (PEP8), il existe un outil `pylint` qui fait de l'analyse de code source en vue de détecter des erreurs le plus tôt possible dans le cycle de développement.\n",
    "\n",
    "En quelques mots, ma recommandation à ce sujet est que :\n",
    "\n",
    "* tout d'abord, et comme dans tous les langages en fait, il est **très utile** de faire passer systématiquement son code dans un linter de ce genre ;\n",
    "* idéalement on ne devrait commiter que du code qui passe cette étape ;\n",
    "* cependant, il y a un petit travail de filtrage à faire au démarrage, car pylint détecte plusieurs centaines de sortes d'erreurs, du coup il convient de passer un moment à configurer l'outil pour qu'il en ignore certaines."
   ]
  },
  {
   "cell_type": "markdown",
   "metadata": {},
   "source": [
    "Dès que vous commencez à travailler sur des projets sérieux, vous devez utiliser un éditeur qui intègre et exécute automatiquement `pylint`. On peut notamment recommander [PyCharm](https://www.jetbrains.com/pycharm/). "
   ]
  },
  {
   "cell_type": "markdown",
   "metadata": {},
   "source": [
    "### Type hints"
   ]
  },
  {
   "cell_type": "markdown",
   "metadata": {},
   "source": [
    "Je voudrais citer enfin l'outil `mypy` qui est un complément crucial dans la mise en oeuvre des *type hints*. \n",
    "\n",
    "Comme on l'a vu en Semaine 4 dans la séquence consacrée aux type hints, et en tous cas jusque Python-3.6, les annotations de typage que vous insérez éventuellement dans votre code sont complètement ignorées de l'interpréteur. \n",
    "\n",
    "Elles sont par contre analysées par l'outil `mypy` qui fournit une sorte de couche supplémentaire de *linter* et permet de détecter, ici encore, les éventuelles erreurs qui peuvent résulter notamment d'une mauvaise utilisation de telle ou telle librairie."
   ]
  },
  {
   "cell_type": "markdown",
   "metadata": {},
   "source": [
    "### Conclusion"
   ]
  },
  {
   "cell_type": "markdown",
   "metadata": {},
   "source": [
    "À nouveau cette liste n'est pas exhaustive, elle s'efforce simplement de guider vos premiers pas dans cet écosystème.\n",
    "\n",
    "Je vous invite à creuser de votre côté les différents aspects qui, parmi cette liste, vous semblent les plus intéressants pour votre usage. "
   ]
  }
 ],
 "metadata": {
  "ipub": {
   "sphinx": {
    "toggle_input": true,
    "toggle_input_all": true,
    "toggle_output": true,
    "toggle_output_all": true
   }
  },
  "jupytext": {
   "cell_metadata_filter": "all",
   "notebook_metadata_filter": "all,-language_info,-toc,-jupytext.text_representation.jupytext_version"
  },
  "kernelspec": {
   "display_name": "Python 3",
   "language": "python",
   "name": "python3"
  },
  "language_info": {
   "codemirror_mode": {
    "name": "ipython",
    "version": 3
   },
   "file_extension": ".py",
   "mimetype": "text/x-python",
   "name": "python",
   "nbconvert_exporter": "python",
   "pygments_lexer": "ipython3",
   "version": "3.7.3"
  },
  "livereveal": {
   "auto_select": "code",
   "auto_select_fragment": true,
   "autolaunch": false,
   "backimage": "media/nologo.png",
   "height": "100%",
   "start_slideshow_at": "selected",
   "theme": "simple",
   "transition": "fade",
   "width": "100%"
  },
  "notebookname": "Outils périphériques",
  "toc": {
   "base_numbering": 1,
   "nav_menu": {},
   "number_sections": true,
   "sideBar": true,
   "skip_h1_title": false,
   "title_cell": "Table of Contents",
   "title_sidebar": "Contents",
   "toc_cell": false,
   "toc_position": {},
   "toc_section_display": true,
   "toc_window_display": false
  },
  "version": "3.0"
 },
 "nbformat": 4,
 "nbformat_minor": 4
}
