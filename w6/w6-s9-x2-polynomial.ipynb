{
 "cells": [
  {
   "cell_type": "markdown",
   "metadata": {},
   "source": [
    "<div class=\"licence\">\n",
    "<span>Licence CC BY-NC-ND</span>\n",
    "<span>Thierry Parmentelat &amp; Arnaud Legout</span>\n",
    "<span><img src=\"media/both-logos-small-alpha.png\" /></span>\n",
    "</div>"
   ]
  },
  {
   "cell_type": "markdown",
   "metadata": {},
   "source": [
    "## exercice - niveau avancé"
   ]
  },
  {
   "cell_type": "code",
   "execution_count": null,
   "metadata": {},
   "outputs": [],
   "source": [
    "%load_ext autoreload\n",
    "%autoreload 2"
   ]
  },
  {
   "cell_type": "markdown",
   "metadata": {},
   "source": [
    "on se propose d'écrire une classe pour représenter les polynômes :\n",
    "\n",
    "* avec un constructeur qui prend en argument les coefficients en commençant par les degrés les plus élevés;  \n",
    "  ainsi par exemple `Polynomial(3, 2, 1)` représente $3X^2 + 2X + 1$\n",
    "  \n",
    "* avec un attribut `degree` pour accéder au degré\n",
    "\n",
    "* avec une méthode `derivative()` pour calculer le polynôme dérivé\n",
    "\n",
    "* qui sait s'additionner, se multiplier et se comparer avec `==`\n",
    "\n",
    "* et qu'on peut appeler (autrement dit qui est un *callable*)  \n",
    "  ce qui signifie qu'on peut écrire par exemple\n",
    "  \n",
    "  ```python\n",
    "  P = Polynomial(3, 2, 1)\n",
    "  P(10) == 321\n",
    "  ```"
   ]
  },
  {
   "cell_type": "code",
   "execution_count": null,
   "metadata": {},
   "outputs": [],
   "source": [
    "from corrections.cls_polynomial import exo_polynomial\n",
    "exo_polynomial.example()"
   ]
  },
  {
   "cell_type": "code",
   "execution_count": null,
   "metadata": {},
   "outputs": [],
   "source": [
    "# votre code\n",
    "\n",
    "class Polynomial:\n",
    "    \n",
    "    def __init__(self, *coefs):\n",
    "        ...\n",
    "    "
   ]
  },
  {
   "cell_type": "code",
   "execution_count": null,
   "metadata": {},
   "outputs": [],
   "source": [
    "# correction\n",
    "exo_polynomial.correction(Polynomial)"
   ]
  },
  {
   "cell_type": "markdown",
   "metadata": {},
   "source": [
    "*****"
   ]
  },
  {
   "cell_type": "code",
   "execution_count": null,
   "metadata": {},
   "outputs": [],
   "source": [
    "# peut-être utile pour debugger ?\n",
    "P00 = Polynomial()\n",
    "P0 = Polynomial(0)\n",
    "P1 = Polynomial(1)\n",
    "P = Polynomial(3, 2, 1)\n",
    "Q = Polynomial(1, 2)\n",
    "R = Polynomial(3, 8, 5, 2)"
   ]
  },
  {
   "cell_type": "code",
   "execution_count": null,
   "metadata": {},
   "outputs": [],
   "source": [
    "P0 == P00 == P0 * P1"
   ]
  },
  {
   "cell_type": "code",
   "execution_count": null,
   "metadata": {},
   "outputs": [],
   "source": [
    "P * Q == R"
   ]
  }
 ],
 "metadata": {
  "ipub": {
   "sphinx": {
    "toggle_input": true,
    "toggle_input_all": true,
    "toggle_output": true,
    "toggle_output_all": true
   }
  },
  "kernelspec": {
   "display_name": "Python 3",
   "language": "python",
   "name": "python3"
  },
  "language_info": {
   "codemirror_mode": {
    "name": "ipython",
    "version": 3
   },
   "file_extension": ".py",
   "mimetype": "text/x-python",
   "name": "python",
   "nbconvert_exporter": "python",
   "pygments_lexer": "ipython3",
   "version": "3.7.3"
  },
  "notebookname": "NO HEADING 1 found",
  "version": "3.0"
 },
 "nbformat": 4,
 "nbformat_minor": 2
}
